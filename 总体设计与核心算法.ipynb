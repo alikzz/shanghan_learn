{
 "cells": [
  {
   "cell_type": "markdown",
   "metadata": {},
   "source": [
    "#首先是一些基本中医理论"
   ]
  },
  {
   "cell_type": "markdown",
   "metadata": {},
   "source": [
    "![title](pic/s5.png)"
   ]
  },
  {
   "cell_type": "markdown",
   "metadata": {},
   "source": [
    "上面是一个中医看病的基本流程,通过收集病人的体证,脉证等信息,经过中医核心算法,给患者一个可以治疗的方剂.\n",
    "\n",
    "在程序而言,就是医生首先有证的信息,诸药的信息\n",
    "最后经过算法给出方剂的信息\n",
    "\n",
    "算法就是讲多种信息经过重组计算得出一个结论"
   ]
  },
  {
   "cell_type": "markdown",
   "metadata": {},
   "source": [
    "![title](pic/s4.png)"
   ]
  },
  {
   "cell_type": "markdown",
   "metadata": {},
   "source": [
    "更具体一点来看,要获得什么样的重要信息才好呢?\n",
    "伤寒中最重要的一个概念就出来了,所谓\"六经\"\n",
    "\"六经\"是根据人体能量强弱(阴阳,津液盛衰)对疾病的亢进或衰弱的反应加上病之能量从体表进入体内过程,这样分成了\"六经\".\n",
    "\n",
    "既是: 阳病(体内能量相对较强)的表,间,里,阴病(体内能量偏弱)的表,间,里.\n",
    "伤寒书中的原文称为:太阳,少阳,阳明, 太阴,厥阴,少阴"
   ]
  },
  {
   "cell_type": "markdown",
   "metadata": {},
   "source": [
    "![title](pic/s3.png)"
   ]
  },
  {
   "cell_type": "markdown",
   "metadata": {},
   "source": [
    "所以张仲景判断一个病的逻辑有两个大纲:(上图)\n",
    "一个先看这个病人的体质如何,也就是我们现代人说的抵抗力如何,抵抗力强的,称为阳,抵抗力弱的,称为阴. 首先,看一个人,要先分清阴阳.\n",
    "\n",
    "随后,要看这个病已经在此人身体的那个部位了,是刚刚发生(太阳),是发生了一段时间了(少阳),还是已经进入的比较深了(阳明)\n",
    "\n",
    "要知道,这些阴阳的病位是随时在变化的,由于不耽误治疗或治疗不当,有可能让这些阴阳病位发生转移."
   ]
  },
  {
   "cell_type": "markdown",
   "metadata": {},
   "source": [
    "![title](pic/s2.png)"
   ]
  },
  {
   "cell_type": "markdown",
   "metadata": {},
   "source": [
    "于是用这两个就可以将疾病锁定在一个相对狭窄的范围,而在这个范围内的用药是非常有规律的, 伤寒中说了很多在这六经中用的经典药以及病人的经典反应,症状,以及治疗途径.\n",
    "\n",
    "大约的治疗途径就是,如果是阳病,那么从表开始治疗,如果是阴病,从里开始治疗.\n",
    "并且有一个常用的手段,汗,吐,下,和,温,清.这些都是将病的能力清除的具体方法.\n",
    "\n",
    "判断出病,那么就是给病画了一个方向,接下来,就是根据药的偏向性来帮助身体将阻碍机体恢复健康的方向抹平,那么自身恢复健康的元气正常,它自动会除掉所谓的病.\n",
    "\n",
    "就是这么一个过程."
   ]
  },
  {
   "cell_type": "markdown",
   "metadata": {},
   "source": [
    "![title](pic/s6.png)"
   ]
  },
  {
   "cell_type": "markdown",
   "metadata": {},
   "source": [
    "根据大概的数据统计\n",
    "基本上张仲景总体开药的方向就是左图,一个非常注重人体能力多寡,同时用药将人体向温暖春天方向引导.\n",
    "\n",
    "那么也就可以说明大部分病的方向,是右图.\n",
    "自身能量偏弱,原因是身体偏向寒冷."
   ]
  }
 ],
 "metadata": {
  "kernelspec": {
   "display_name": "Python 3",
   "language": "python",
   "name": "python3"
  },
  "language_info": {
   "codemirror_mode": {
    "name": "ipython",
    "version": 3
   },
   "file_extension": ".py",
   "mimetype": "text/x-python",
   "name": "python",
   "nbconvert_exporter": "python",
   "pygments_lexer": "ipython3",
   "version": "3.7.0"
  }
 },
 "nbformat": 4,
 "nbformat_minor": 2
}
