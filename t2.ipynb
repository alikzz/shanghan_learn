{
 "cells": [
  {
   "cell_type": "code",
   "execution_count": 1,
   "metadata": {},
   "outputs": [],
   "source": [
    "import sys\n",
    "import pandas as pd\n",
    "import numpy as np\n",
    "import collections\n",
    "\n",
    "import matplotlib.mlab as mlab  \n",
    "import matplotlib.pyplot as plt\n",
    "import matplotlib\n",
    "\n",
    "from matplotlib import font_manager as fm\n",
    "from  matplotlib import cm"
   ]
  },
  {
   "cell_type": "code",
   "execution_count": 2,
   "metadata": {},
   "outputs": [],
   "source": [
    "matplotlib.matplotlib_fname()\n",
    "sh1 = pd.read_json('data/SH_ty1.json')\n",
    "sh1_t = sh1.T\n",
    "w = pd.read_json('data/WX_yao.json')"
   ]
  },
  {
   "cell_type": "code",
   "execution_count": 3,
   "metadata": {},
   "outputs": [],
   "source": [
    "class Shanghan():\n",
    "    def __init__(self):\n",
    "        self.sh1 = pd.read_json('data/SH_ty1.json')\n",
    "        self.wx = {y: sx for sx, yao in w.loc[\"药物\"].iteritems() for y in yao}\n",
    "        pass\n",
    "        \n",
    "        \n",
    "    def bianzheng(self,zheng):#根据证输出对应方剂(简单根据伤寒的对应,而非根据心法)\n",
    "        a = self.sh1.loc['证'].apply(lambda x: set(x['体证']))\n",
    "        print(a[a.apply(lambda x: zheng <= x)].index[0])\n",
    "        \n",
    "                \n",
    "    def find(self,find):#简单查询某一个方剂的信息\n",
    "        self.find = find\n",
    "        print(sh1[self.find])\n",
    "        \n",
    "    def count_all(self,yao):#可以查询每个方剂或药物在整个伤寒里的统计\n",
    "        a = self.sh1.loc['方']\n",
    "        s = a[a.apply(lambda x: yao in x)].count()\n",
    "        print(s)\n",
    "        \n",
    "    \n",
    "    def draw_dir_all(self):#画每一个方剂的方向图\n",
    "        fang = self.sh1.loc['方']\n",
    "        sx = [self.wx.get(y,\"暂不明\") for f in fang for y in f]\n",
    "        sx_len = len(sx)\n",
    "        qq = {y: cnt / sx_len for y, cnt in collections.Counter(sx).items()}\n",
    "        \n",
    "        #----------------下面是画饼图-----------------------------------\n",
    "        \n",
    "        labels = list(qq.keys())\n",
    "        X = list(qq.values())\n",
    "        fig, ax = plt.subplots(figsize=(11,11))\n",
    "        \n",
    "        #fig = plt.figure(1, figsize=(11,11))\n",
    "        \n",
    "        colors = cm.rainbow(np.arange(len(X))/len(X))\n",
    "        patches, texts, autotexts = ax.pie(X, labels=labels, autopct='%1.2f%%',\n",
    "        shadow=False, startangle=170, colors=colors)\n",
    "        \n",
    "        proptease = fm.FontProperties()\n",
    "        proptease.set_size('x-large')\n",
    "        \n",
    "        plt.setp(autotexts, fontproperties=proptease)\n",
    "        plt.setp(texts, fontproperties=proptease)\n",
    "\n",
    "        plt.title(\"伤寒全部方剂五行方向图\", pad = 30)\n",
    "        plt.axis('equal')\n",
    "        plt.show()  \n",
    "        \n",
    "        \n",
    "        \n",
    "    def draw_dir(self,f):\n",
    "        fang = self.sh1.loc['方'][f]\n",
    "        sx = [self.wx.get(y, \"暂不明\") for y in fang]\n",
    "        fang_len = len(fang)\n",
    "        qq = {s: cnt / fang_len for s, cnt in collections.Counter(sx).items()}  #字典解析\n",
    "        \n",
    "        #----------------下面是画饼图-----------------------------------\n",
    "         \n",
    "        labels = list(qq.keys())\n",
    "        X = list(qq.values())\n",
    "        fig, ax = plt.subplots(figsize=(11,11))\n",
    "        \n",
    "        colors = cm.rainbow(np.arange(len(X))/len(X))\n",
    "        patches, texts, autotexts = ax.pie(X, labels=labels, autopct='%1.2f%%',\n",
    "        shadow=False, startangle=170, colors=colors)\n",
    "        \n",
    "        proptease = fm.FontProperties()\n",
    "        proptease.set_size('x-large')\n",
    "        \n",
    "        title = str(f)+'的五行方向图'\n",
    "        \n",
    "        plt.setp(autotexts, fontproperties=proptease)\n",
    "        plt.setp(texts, fontproperties=proptease)\n",
    "        \n",
    "        \n",
    "        plt.title(title, pad = 30)\n",
    "        plt.axis('equal')\n",
    "        plt.show()  \n",
    "        \n"
   ]
  },
  {
   "cell_type": "code",
   "execution_count": 10,
   "metadata": {},
   "outputs": [
    {
     "data": {
      "text/plain": [
       "{'桂枝': '3两', '芍药': '3两', '炙甘草': '2两', '生姜': '3两', '大枣': '12枚'}"
      ]
     },
     "execution_count": 10,
     "metadata": {},
     "output_type": "execute_result"
    }
   ],
   "source": [
    "sh1.loc['方'][\"桂枝汤\"]"
   ]
  },
  {
   "cell_type": "code",
   "execution_count": 4,
   "metadata": {},
   "outputs": [],
   "source": [
    "br1 = Shanghan()"
   ]
  },
  {
   "cell_type": "code",
   "execution_count": 5,
   "metadata": {},
   "outputs": [
    {
     "data": {
      "text/html": [
       "<div>\n",
       "<style scoped>\n",
       "    .dataframe tbody tr th:only-of-type {\n",
       "        vertical-align: middle;\n",
       "    }\n",
       "\n",
       "    .dataframe tbody tr th {\n",
       "        vertical-align: top;\n",
       "    }\n",
       "\n",
       "    .dataframe thead th {\n",
       "        text-align: right;\n",
       "    }\n",
       "</style>\n",
       "<table border=\"1\" class=\"dataframe\">\n",
       "  <thead>\n",
       "    <tr style=\"text-align: right;\">\n",
       "      <th></th>\n",
       "      <th>桂枝汤</th>\n",
       "      <th>桂枝加葛根汤</th>\n",
       "      <th>桂枝加附子汤</th>\n",
       "      <th>桂枝去芍药汤</th>\n",
       "      <th>桂枝去芍药加附子汤</th>\n",
       "      <th>桂枝麻黄各半汤</th>\n",
       "      <th>桂枝二麻黄一汤</th>\n",
       "      <th>白虎加人参汤</th>\n",
       "      <th>桂枝二越婢一汤</th>\n",
       "      <th>桂枝去桂加茯苓白术汤</th>\n",
       "      <th>...</th>\n",
       "      <th>麻黄升麻汤</th>\n",
       "      <th>干姜黄芩黄连人参汤</th>\n",
       "      <th>白头翁汤</th>\n",
       "      <th>四逆加人参汤</th>\n",
       "      <th>理中丸</th>\n",
       "      <th>通脉四逆加猪胆汤</th>\n",
       "      <th>烧裈散</th>\n",
       "      <th>枳实栀子汤</th>\n",
       "      <th>牡蛎泽泻散</th>\n",
       "      <th>竹叶石膏汤</th>\n",
       "    </tr>\n",
       "  </thead>\n",
       "  <tbody>\n",
       "    <tr>\n",
       "      <th>六经</th>\n",
       "      <td>{'阴阳': '阴', '三经': '厥阴'}</td>\n",
       "      <td>{'阴阳': '阳', '三经': '太阳'}</td>\n",
       "      <td>{'阴阳': '阳', '三经': '太阳'}</td>\n",
       "      <td>{'阴阳': '阳', '三经': '太阳'}</td>\n",
       "      <td>{'阴阳': '阳', '三经': '太阳'}</td>\n",
       "      <td>{'阴阳': '阳', '三经': '太阳'}</td>\n",
       "      <td>{'阴阳': '阳', '三经': '太阳'}</td>\n",
       "      <td>{'阴阳': '阳', '三经': '阳明'}</td>\n",
       "      <td>{'阴阳': '阳', '三经': '太阳'}</td>\n",
       "      <td>{'阴阳': '阳', '三经': '太阳'}</td>\n",
       "      <td>...</td>\n",
       "      <td>{'阴阳': '阴', '三经': '厥阴'}</td>\n",
       "      <td>{'阴阳': '阴', '三经': '厥阴'}</td>\n",
       "      <td>{'阴阳': '阴', '三经': '少阴'}</td>\n",
       "      <td>{'阴阳': '阴', '三经': '厥阴'}</td>\n",
       "      <td>{'阴阳': '阳', '三经': '阳明'}</td>\n",
       "      <td>{'阴阳': '阴', '三经': '厥阴'}</td>\n",
       "      <td>{'阴阳': '阴', '三经': '厥阴'}</td>\n",
       "      <td>{'阴阳': '阴', '三经': '厥阴'}</td>\n",
       "      <td>{'阴阳': '阴', '三经': '厥阴'}</td>\n",
       "      <td>{'阴阳': '阳', '三经': '阳明'}</td>\n",
       "    </tr>\n",
       "    <tr>\n",
       "      <th>原文</th>\n",
       "      <td>{'对应证原文': ['吐利止。而身痛不休者。当消息和解其外。宜桂枝汤小和之。'], '方剂...</td>\n",
       "      <td>{'对应证原文': ['太阳病，项背强几几，反汗出恶风者，桂枝加葛根汤主之。', '太阳与阳...</td>\n",
       "      <td>{'对应证原文': ['太阳病，发汗，遂漏不止，其人恶风，小便难，四支微急，难以屈伸者，桂枝...</td>\n",
       "      <td>{'对应证原文': ['太阳病。下之后。脉促。胸满者。桂枝去芍药汤主之。'], '方剂原文'...</td>\n",
       "      <td>{'对应证原文': ['若微寒者。桂枝去芍药加附子汤主之。'], '方剂原文': '桂枝三两...</td>\n",
       "      <td>{'对应证原文': ['面色反有热色者。未欲解也。以其不能得小汗出 。 身必痒。宜桂枝麻黄各...</td>\n",
       "      <td>{'对应证原文': ['服桂枝汤。大汗出。脉洪大者。与桂枝汤如前法。若形似疟。一日再发者。汗...</td>\n",
       "      <td>{'对应证原文': ['若渴欲饮水。口干舌燥者。白虎加人参汤主之。'], '方剂原文': '...</td>\n",
       "      <td>{'对应证原文': ['太阳病。发热恶寒。热多寒少。脉微弱者。此无阳也。不可发汗。宜桂枝二越...</td>\n",
       "      <td>{'对应证原文': ['服桂枝汤。或下之。仍头项强痛。翕翕发热。无汗。心下满微痛。小便不利者...</td>\n",
       "      <td>...</td>\n",
       "      <td>{'对应证原文': ['伤寒。六七日。大下后。寸脉沉而迟。手足厥逆。下部脉不至。喉咽不利。唾...</td>\n",
       "      <td>{'对应证原文': ['伤寒。本自寒下。医复吐下之。寒格。更逆吐下。若食入口即吐。干姜黄芩黄...</td>\n",
       "      <td>{'对应证原文': ['热利下重者。白头翁汤主之。'], '方剂原文': '白头翁二两 黄蘗...</td>\n",
       "      <td>{'对应证原文': ['恶寒。脉微而复利。利止。亡血也。四逆加人参汤主之。'], '方剂原文...</td>\n",
       "      <td>{'对应证原文': ['大病差后。喜唾。久不了了。胸上有寒。当以丸药温之。宜理中丸。'], ...</td>\n",
       "      <td>{'对应证原文': ['吐已下断。汗出而厥。四肢拘急不解。脉微欲绝者。通脉四逆加猪胆汤主之。...</td>\n",
       "      <td>{'对应证原文': ['伤寒阴易之为病。其人身体重。少气。少腹里急。或引阴中拘挛。热上冲胸。...</td>\n",
       "      <td>{'对应证原文': ['大病差后。劳复者。枳实栀子汤主之。'], '方剂原文': '枳实三枚...</td>\n",
       "      <td>{'对应证原文': ['大病差后。从腰以下有水气者。牡蛎泽泻散主之。'], '方剂原文': ...</td>\n",
       "      <td>{'对应证原文': ['伤寒解后。虚羸少气。气逆欲吐。竹叶石膏汤主之。'], '方剂原文':...</td>\n",
       "    </tr>\n",
       "    <tr>\n",
       "      <th>方</th>\n",
       "      <td>{'桂枝': '3两', '芍药': '3两', '炙甘草': '2两', '生姜': '3...</td>\n",
       "      <td>{'葛根': '4两', '桂枝': '3两', '芍药': '2两', '炙甘草': '2...</td>\n",
       "      <td>{'附子': '1两', '桂枝': '3两', '芍药': '3两', '炙甘草': '3...</td>\n",
       "      <td>{'桂枝': '3两', '炙甘草': '2两', '生姜': '3两', '大枣': '1...</td>\n",
       "      <td>{'桂枝': '3两', '炙甘草': '2两', '生姜': '3两', '大枣': '1...</td>\n",
       "      <td>{'桂枝': '1两16铢', '炙甘草': '1两', '生姜': '1两', '大枣':...</td>\n",
       "      <td>{'桂枝': '1两17铢', '炙甘草': '1两6铢', '生姜': '1两6铢', '...</td>\n",
       "      <td>{'知母': '6两', '石膏': '1斤', '粳米': '6合', '炙甘草': '2...</td>\n",
       "      <td>{'桂枝': '1两', '芍药': '1两', '炙甘草': '1两', '麻黄': '1...</td>\n",
       "      <td>{'白术': '3两', '芍药': '3两', '炙甘草': '2两', '茯苓': '3...</td>\n",
       "      <td>...</td>\n",
       "      <td>{'茯苓': '6株', '炙甘草': '6株', '干姜': '6株', '桂枝': '6...</td>\n",
       "      <td>{'人参': '3两', '黄芩': '3两', '干姜': '3两', '黄连': '3两'}</td>\n",
       "      <td>{'白头翁': '2两', '黄蘗': '3两', '黄连': '3两', '秦皮': '3两'}</td>\n",
       "      <td>{'人参': '1两', '附子': '1枚', '炙甘草': '3两', '干姜': '1...</td>\n",
       "      <td>{'人参': '3两', '干姜': '3两', '炙甘草': '3两', '白术': '3两'}</td>\n",
       "      <td>{'附子': '1枚', '炙甘草': '2两', '干姜': '3两', '猪胆汁': '...</td>\n",
       "      <td>{'妇人中裈近隐处之烧灰': '一些'}</td>\n",
       "      <td>{'枳实': '3枚', '栀子': '14个', '豉': '1升'}</td>\n",
       "      <td>{'柴胡': '0.5斤', '黄芩': '3两', '人参': '3两', '半夏': '...</td>\n",
       "      <td>{'竹叶': '2把', '石膏': '1斤', '半夏': '1升', '麦门冬': '1...</td>\n",
       "    </tr>\n",
       "    <tr>\n",
       "      <th>证</th>\n",
       "      <td>{'体证': ['发热', '鼻涕', '怕冷', '怕风', '干呕', '头痛', '出...</td>\n",
       "      <td>{'体证': ['肌肉酸痛', '怕风'], '脉证': ['无']}</td>\n",
       "      <td>{'体证': ['大量出汗不止', '怕风', '小便难', '四肢难以屈伸'], '脉证'...</td>\n",
       "      <td>{'体证': ['大便后胸胀'], '脉证': ['急促']}</td>\n",
       "      <td>{'体证': ['口苦', '轻微寒冷'], '脉证': ['暂无']}</td>\n",
       "      <td>{'体证': ['身痒'], '脉证': ['暂无']}</td>\n",
       "      <td>{'体证': ['暂无'], '脉证': ['暂无']}</td>\n",
       "      <td>{'体证': ['暂无'], '脉证': ['暂无']}</td>\n",
       "      <td>{'体证': ['发热怕冷', '热多寒少'], '脉证': ['微弱']}</td>\n",
       "      <td>{'体证': ['严重头痛', '发热无汗', '心下满', '小便不多', '身体微痛']...</td>\n",
       "      <td>...</td>\n",
       "      <td>{'体证': ['暂无'], '脉证': ['暂无']}</td>\n",
       "      <td>{'体证': ['暂无'], '脉证': ['暂无']}</td>\n",
       "      <td>{'体证': ['四肢冷', '长期焦虑', '自感体虚', '长期抑郁', '没有精神',...</td>\n",
       "      <td>{'体证': ['喜睡眠', '胸满胁痛'], '脉证': ['脉细']}</td>\n",
       "      <td>{'体证': ['消渴'], '脉证': ['脉沉紧']}</td>\n",
       "      <td>{'体证': ['四肢冷', '长期焦虑', '自感体虚', '长期抑郁', '没有精神',...</td>\n",
       "      <td>{'体证': ['四肢冷', '长期焦虑', '自感体虚', '长期抑郁', '没有精神',...</td>\n",
       "      <td>{'体证': ['四肢冷', '长期焦虑', '自感体虚', '长期抑郁', '没有精神',...</td>\n",
       "      <td>{'体证': ['喜睡眠', '胸满胁痛'], '脉证': ['脉细']}</td>\n",
       "      <td>{'体证': ['消渴'], '脉证': ['脉沉紧']}</td>\n",
       "    </tr>\n",
       "  </tbody>\n",
       "</table>\n",
       "<p>4 rows × 111 columns</p>\n",
       "</div>"
      ],
      "text/plain": [
       "                                                  桂枝汤  \\\n",
       "六经                            {'阴阳': '阴', '三经': '厥阴'}   \n",
       "原文  {'对应证原文': ['吐利止。而身痛不休者。当消息和解其外。宜桂枝汤小和之。'], '方剂...   \n",
       "方   {'桂枝': '3两', '芍药': '3两', '炙甘草': '2两', '生姜': '3...   \n",
       "证   {'体证': ['发热', '鼻涕', '怕冷', '怕风', '干呕', '头痛', '出...   \n",
       "\n",
       "                                               桂枝加葛根汤  \\\n",
       "六经                            {'阴阳': '阳', '三经': '太阳'}   \n",
       "原文  {'对应证原文': ['太阳病，项背强几几，反汗出恶风者，桂枝加葛根汤主之。', '太阳与阳...   \n",
       "方   {'葛根': '4两', '桂枝': '3两', '芍药': '2两', '炙甘草': '2...   \n",
       "证                 {'体证': ['肌肉酸痛', '怕风'], '脉证': ['无']}   \n",
       "\n",
       "                                               桂枝加附子汤  \\\n",
       "六经                            {'阴阳': '阳', '三经': '太阳'}   \n",
       "原文  {'对应证原文': ['太阳病，发汗，遂漏不止，其人恶风，小便难，四支微急，难以屈伸者，桂枝...   \n",
       "方   {'附子': '1两', '桂枝': '3两', '芍药': '3两', '炙甘草': '3...   \n",
       "证   {'体证': ['大量出汗不止', '怕风', '小便难', '四肢难以屈伸'], '脉证'...   \n",
       "\n",
       "                                               桂枝去芍药汤  \\\n",
       "六经                            {'阴阳': '阳', '三经': '太阳'}   \n",
       "原文  {'对应证原文': ['太阳病。下之后。脉促。胸满者。桂枝去芍药汤主之。'], '方剂原文'...   \n",
       "方   {'桂枝': '3两', '炙甘草': '2两', '生姜': '3两', '大枣': '1...   \n",
       "证                     {'体证': ['大便后胸胀'], '脉证': ['急促']}   \n",
       "\n",
       "                                            桂枝去芍药加附子汤  \\\n",
       "六经                            {'阴阳': '阳', '三经': '太阳'}   \n",
       "原文  {'对应证原文': ['若微寒者。桂枝去芍药加附子汤主之。'], '方剂原文': '桂枝三两...   \n",
       "方   {'桂枝': '3两', '炙甘草': '2两', '生姜': '3两', '大枣': '1...   \n",
       "证                {'体证': ['口苦', '轻微寒冷'], '脉证': ['暂无']}   \n",
       "\n",
       "                                              桂枝麻黄各半汤  \\\n",
       "六经                            {'阴阳': '阳', '三经': '太阳'}   \n",
       "原文  {'对应证原文': ['面色反有热色者。未欲解也。以其不能得小汗出 。 身必痒。宜桂枝麻黄各...   \n",
       "方   {'桂枝': '1两16铢', '炙甘草': '1两', '生姜': '1两', '大枣':...   \n",
       "证                        {'体证': ['身痒'], '脉证': ['暂无']}   \n",
       "\n",
       "                                              桂枝二麻黄一汤  \\\n",
       "六经                            {'阴阳': '阳', '三经': '太阳'}   \n",
       "原文  {'对应证原文': ['服桂枝汤。大汗出。脉洪大者。与桂枝汤如前法。若形似疟。一日再发者。汗...   \n",
       "方   {'桂枝': '1两17铢', '炙甘草': '1两6铢', '生姜': '1两6铢', '...   \n",
       "证                        {'体证': ['暂无'], '脉证': ['暂无']}   \n",
       "\n",
       "                                               白虎加人参汤  \\\n",
       "六经                            {'阴阳': '阳', '三经': '阳明'}   \n",
       "原文  {'对应证原文': ['若渴欲饮水。口干舌燥者。白虎加人参汤主之。'], '方剂原文': '...   \n",
       "方   {'知母': '6两', '石膏': '1斤', '粳米': '6合', '炙甘草': '2...   \n",
       "证                        {'体证': ['暂无'], '脉证': ['暂无']}   \n",
       "\n",
       "                                              桂枝二越婢一汤  \\\n",
       "六经                            {'阴阳': '阳', '三经': '太阳'}   \n",
       "原文  {'对应证原文': ['太阳病。发热恶寒。热多寒少。脉微弱者。此无阳也。不可发汗。宜桂枝二越...   \n",
       "方   {'桂枝': '1两', '芍药': '1两', '炙甘草': '1两', '麻黄': '1...   \n",
       "证              {'体证': ['发热怕冷', '热多寒少'], '脉证': ['微弱']}   \n",
       "\n",
       "                                           桂枝去桂加茯苓白术汤  \\\n",
       "六经                            {'阴阳': '阳', '三经': '太阳'}   \n",
       "原文  {'对应证原文': ['服桂枝汤。或下之。仍头项强痛。翕翕发热。无汗。心下满微痛。小便不利者...   \n",
       "方   {'白术': '3两', '芍药': '3两', '炙甘草': '2两', '茯苓': '3...   \n",
       "证   {'体证': ['严重头痛', '发热无汗', '心下满', '小便不多', '身体微痛']...   \n",
       "\n",
       "                          ...                          \\\n",
       "六经                        ...                           \n",
       "原文                        ...                           \n",
       "方                         ...                           \n",
       "证                         ...                           \n",
       "\n",
       "                                                麻黄升麻汤  \\\n",
       "六经                            {'阴阳': '阴', '三经': '厥阴'}   \n",
       "原文  {'对应证原文': ['伤寒。六七日。大下后。寸脉沉而迟。手足厥逆。下部脉不至。喉咽不利。唾...   \n",
       "方   {'茯苓': '6株', '炙甘草': '6株', '干姜': '6株', '桂枝': '6...   \n",
       "证                        {'体证': ['暂无'], '脉证': ['暂无']}   \n",
       "\n",
       "                                            干姜黄芩黄连人参汤  \\\n",
       "六经                            {'阴阳': '阴', '三经': '厥阴'}   \n",
       "原文  {'对应证原文': ['伤寒。本自寒下。医复吐下之。寒格。更逆吐下。若食入口即吐。干姜黄芩黄...   \n",
       "方    {'人参': '3两', '黄芩': '3两', '干姜': '3两', '黄连': '3两'}   \n",
       "证                        {'体证': ['暂无'], '脉证': ['暂无']}   \n",
       "\n",
       "                                                 白头翁汤  \\\n",
       "六经                            {'阴阳': '阴', '三经': '少阴'}   \n",
       "原文  {'对应证原文': ['热利下重者。白头翁汤主之。'], '方剂原文': '白头翁二两 黄蘗...   \n",
       "方   {'白头翁': '2两', '黄蘗': '3两', '黄连': '3两', '秦皮': '3两'}   \n",
       "证   {'体证': ['四肢冷', '长期焦虑', '自感体虚', '长期抑郁', '没有精神',...   \n",
       "\n",
       "                                               四逆加人参汤  \\\n",
       "六经                            {'阴阳': '阴', '三经': '厥阴'}   \n",
       "原文  {'对应证原文': ['恶寒。脉微而复利。利止。亡血也。四逆加人参汤主之。'], '方剂原文...   \n",
       "方   {'人参': '1两', '附子': '1枚', '炙甘草': '3两', '干姜': '1...   \n",
       "证               {'体证': ['喜睡眠', '胸满胁痛'], '脉证': ['脉细']}   \n",
       "\n",
       "                                                  理中丸  \\\n",
       "六经                            {'阴阳': '阳', '三经': '阳明'}   \n",
       "原文  {'对应证原文': ['大病差后。喜唾。久不了了。胸上有寒。当以丸药温之。宜理中丸。'], ...   \n",
       "方   {'人参': '3两', '干姜': '3两', '炙甘草': '3两', '白术': '3两'}   \n",
       "证                       {'体证': ['消渴'], '脉证': ['脉沉紧']}   \n",
       "\n",
       "                                             通脉四逆加猪胆汤  \\\n",
       "六经                            {'阴阳': '阴', '三经': '厥阴'}   \n",
       "原文  {'对应证原文': ['吐已下断。汗出而厥。四肢拘急不解。脉微欲绝者。通脉四逆加猪胆汤主之。...   \n",
       "方   {'附子': '1枚', '炙甘草': '2两', '干姜': '3两', '猪胆汁': '...   \n",
       "证   {'体证': ['四肢冷', '长期焦虑', '自感体虚', '长期抑郁', '没有精神',...   \n",
       "\n",
       "                                                  烧裈散  \\\n",
       "六经                            {'阴阳': '阴', '三经': '厥阴'}   \n",
       "原文  {'对应证原文': ['伤寒阴易之为病。其人身体重。少气。少腹里急。或引阴中拘挛。热上冲胸。...   \n",
       "方                                {'妇人中裈近隐处之烧灰': '一些'}   \n",
       "证   {'体证': ['四肢冷', '长期焦虑', '自感体虚', '长期抑郁', '没有精神',...   \n",
       "\n",
       "                                                枳实栀子汤  \\\n",
       "六经                            {'阴阳': '阴', '三经': '厥阴'}   \n",
       "原文  {'对应证原文': ['大病差后。劳复者。枳实栀子汤主之。'], '方剂原文': '枳实三枚...   \n",
       "方                {'枳实': '3枚', '栀子': '14个', '豉': '1升'}   \n",
       "证   {'体证': ['四肢冷', '长期焦虑', '自感体虚', '长期抑郁', '没有精神',...   \n",
       "\n",
       "                                                牡蛎泽泻散  \\\n",
       "六经                            {'阴阳': '阴', '三经': '厥阴'}   \n",
       "原文  {'对应证原文': ['大病差后。从腰以下有水气者。牡蛎泽泻散主之。'], '方剂原文': ...   \n",
       "方   {'柴胡': '0.5斤', '黄芩': '3两', '人参': '3两', '半夏': '...   \n",
       "证               {'体证': ['喜睡眠', '胸满胁痛'], '脉证': ['脉细']}   \n",
       "\n",
       "                                                竹叶石膏汤  \n",
       "六经                            {'阴阳': '阳', '三经': '阳明'}  \n",
       "原文  {'对应证原文': ['伤寒解后。虚羸少气。气逆欲吐。竹叶石膏汤主之。'], '方剂原文':...  \n",
       "方   {'竹叶': '2把', '石膏': '1斤', '半夏': '1升', '麦门冬': '1...  \n",
       "证                       {'体证': ['消渴'], '脉证': ['脉沉紧']}  \n",
       "\n",
       "[4 rows x 111 columns]"
      ]
     },
     "execution_count": 5,
     "metadata": {},
     "output_type": "execute_result"
    }
   ],
   "source": [
    "sh1.head()"
   ]
  },
  {
   "cell_type": "code",
   "execution_count": 14,
   "metadata": {},
   "outputs": [],
   "source": [
    "a1 = sh1.columns"
   ]
  },
  {
   "cell_type": "code",
   "execution_count": 6,
   "metadata": {},
   "outputs": [
    {
     "ename": "TypeError",
     "evalue": "'<=' not supported between instances of 'list' and 'set'",
     "output_type": "error",
     "traceback": [
      "\u001b[0;31m---------------------------------------------------------------------------\u001b[0m",
      "\u001b[0;31mTypeError\u001b[0m                                 Traceback (most recent call last)",
      "\u001b[0;32m<ipython-input-6-d06ba4cfbf3a>\u001b[0m in \u001b[0;36m<module>\u001b[0;34m\u001b[0m\n\u001b[0;32m----> 1\u001b[0;31m \u001b[0mbr1\u001b[0m\u001b[0;34m.\u001b[0m\u001b[0mbianzheng\u001b[0m\u001b[0;34m(\u001b[0m\u001b[0;34m[\u001b[0m\u001b[0;34m'怕风'\u001b[0m\u001b[0;34m]\u001b[0m\u001b[0;34m)\u001b[0m\u001b[0;34m\u001b[0m\u001b[0m\n\u001b[0m",
      "\u001b[0;32m<ipython-input-3-630bfa257f00>\u001b[0m in \u001b[0;36mbianzheng\u001b[0;34m(self, zheng)\u001b[0m\n\u001b[1;32m      8\u001b[0m     \u001b[0;32mdef\u001b[0m \u001b[0mbianzheng\u001b[0m\u001b[0;34m(\u001b[0m\u001b[0mself\u001b[0m\u001b[0;34m,\u001b[0m\u001b[0mzheng\u001b[0m\u001b[0;34m)\u001b[0m\u001b[0;34m:\u001b[0m\u001b[0;31m#根据证输出对应方剂(简单根据伤寒的对应,而非根据心法)\u001b[0m\u001b[0;34m\u001b[0m\u001b[0m\n\u001b[1;32m      9\u001b[0m         \u001b[0ma\u001b[0m \u001b[0;34m=\u001b[0m \u001b[0mself\u001b[0m\u001b[0;34m.\u001b[0m\u001b[0msh1\u001b[0m\u001b[0;34m.\u001b[0m\u001b[0mloc\u001b[0m\u001b[0;34m[\u001b[0m\u001b[0;34m'证'\u001b[0m\u001b[0;34m]\u001b[0m\u001b[0;34m.\u001b[0m\u001b[0mapply\u001b[0m\u001b[0;34m(\u001b[0m\u001b[0;32mlambda\u001b[0m \u001b[0mx\u001b[0m\u001b[0;34m:\u001b[0m \u001b[0mset\u001b[0m\u001b[0;34m(\u001b[0m\u001b[0mx\u001b[0m\u001b[0;34m[\u001b[0m\u001b[0;34m'体证'\u001b[0m\u001b[0;34m]\u001b[0m\u001b[0;34m)\u001b[0m\u001b[0;34m)\u001b[0m\u001b[0;34m\u001b[0m\u001b[0m\n\u001b[0;32m---> 10\u001b[0;31m         \u001b[0mprint\u001b[0m\u001b[0;34m(\u001b[0m\u001b[0ma\u001b[0m\u001b[0;34m[\u001b[0m\u001b[0ma\u001b[0m\u001b[0;34m.\u001b[0m\u001b[0mapply\u001b[0m\u001b[0;34m(\u001b[0m\u001b[0;32mlambda\u001b[0m \u001b[0mx\u001b[0m\u001b[0;34m:\u001b[0m \u001b[0mzheng\u001b[0m \u001b[0;34m<=\u001b[0m \u001b[0mx\u001b[0m\u001b[0;34m)\u001b[0m\u001b[0;34m]\u001b[0m\u001b[0;34m.\u001b[0m\u001b[0mindex\u001b[0m\u001b[0;34m[\u001b[0m\u001b[0;36m0\u001b[0m\u001b[0;34m]\u001b[0m\u001b[0;34m)\u001b[0m\u001b[0;34m\u001b[0m\u001b[0m\n\u001b[0m\u001b[1;32m     11\u001b[0m \u001b[0;34m\u001b[0m\u001b[0m\n\u001b[1;32m     12\u001b[0m \u001b[0;34m\u001b[0m\u001b[0m\n",
      "\u001b[0;32m/anaconda3/lib/python3.7/site-packages/pandas/core/series.py\u001b[0m in \u001b[0;36mapply\u001b[0;34m(self, func, convert_dtype, args, **kwds)\u001b[0m\n\u001b[1;32m   3192\u001b[0m             \u001b[0;32melse\u001b[0m\u001b[0;34m:\u001b[0m\u001b[0;34m\u001b[0m\u001b[0m\n\u001b[1;32m   3193\u001b[0m                 \u001b[0mvalues\u001b[0m \u001b[0;34m=\u001b[0m \u001b[0mself\u001b[0m\u001b[0;34m.\u001b[0m\u001b[0mastype\u001b[0m\u001b[0;34m(\u001b[0m\u001b[0mobject\u001b[0m\u001b[0;34m)\u001b[0m\u001b[0;34m.\u001b[0m\u001b[0mvalues\u001b[0m\u001b[0;34m\u001b[0m\u001b[0m\n\u001b[0;32m-> 3194\u001b[0;31m                 \u001b[0mmapped\u001b[0m \u001b[0;34m=\u001b[0m \u001b[0mlib\u001b[0m\u001b[0;34m.\u001b[0m\u001b[0mmap_infer\u001b[0m\u001b[0;34m(\u001b[0m\u001b[0mvalues\u001b[0m\u001b[0;34m,\u001b[0m \u001b[0mf\u001b[0m\u001b[0;34m,\u001b[0m \u001b[0mconvert\u001b[0m\u001b[0;34m=\u001b[0m\u001b[0mconvert_dtype\u001b[0m\u001b[0;34m)\u001b[0m\u001b[0;34m\u001b[0m\u001b[0m\n\u001b[0m\u001b[1;32m   3195\u001b[0m \u001b[0;34m\u001b[0m\u001b[0m\n\u001b[1;32m   3196\u001b[0m         \u001b[0;32mif\u001b[0m \u001b[0mlen\u001b[0m\u001b[0;34m(\u001b[0m\u001b[0mmapped\u001b[0m\u001b[0;34m)\u001b[0m \u001b[0;32mand\u001b[0m \u001b[0misinstance\u001b[0m\u001b[0;34m(\u001b[0m\u001b[0mmapped\u001b[0m\u001b[0;34m[\u001b[0m\u001b[0;36m0\u001b[0m\u001b[0;34m]\u001b[0m\u001b[0;34m,\u001b[0m \u001b[0mSeries\u001b[0m\u001b[0;34m)\u001b[0m\u001b[0;34m:\u001b[0m\u001b[0;34m\u001b[0m\u001b[0m\n",
      "\u001b[0;32mpandas/_libs/src/inference.pyx\u001b[0m in \u001b[0;36mpandas._libs.lib.map_infer\u001b[0;34m()\u001b[0m\n",
      "\u001b[0;32m<ipython-input-3-630bfa257f00>\u001b[0m in \u001b[0;36m<lambda>\u001b[0;34m(x)\u001b[0m\n\u001b[1;32m      8\u001b[0m     \u001b[0;32mdef\u001b[0m \u001b[0mbianzheng\u001b[0m\u001b[0;34m(\u001b[0m\u001b[0mself\u001b[0m\u001b[0;34m,\u001b[0m\u001b[0mzheng\u001b[0m\u001b[0;34m)\u001b[0m\u001b[0;34m:\u001b[0m\u001b[0;31m#根据证输出对应方剂(简单根据伤寒的对应,而非根据心法)\u001b[0m\u001b[0;34m\u001b[0m\u001b[0m\n\u001b[1;32m      9\u001b[0m         \u001b[0ma\u001b[0m \u001b[0;34m=\u001b[0m \u001b[0mself\u001b[0m\u001b[0;34m.\u001b[0m\u001b[0msh1\u001b[0m\u001b[0;34m.\u001b[0m\u001b[0mloc\u001b[0m\u001b[0;34m[\u001b[0m\u001b[0;34m'证'\u001b[0m\u001b[0;34m]\u001b[0m\u001b[0;34m.\u001b[0m\u001b[0mapply\u001b[0m\u001b[0;34m(\u001b[0m\u001b[0;32mlambda\u001b[0m \u001b[0mx\u001b[0m\u001b[0;34m:\u001b[0m \u001b[0mset\u001b[0m\u001b[0;34m(\u001b[0m\u001b[0mx\u001b[0m\u001b[0;34m[\u001b[0m\u001b[0;34m'体证'\u001b[0m\u001b[0;34m]\u001b[0m\u001b[0;34m)\u001b[0m\u001b[0;34m)\u001b[0m\u001b[0;34m\u001b[0m\u001b[0m\n\u001b[0;32m---> 10\u001b[0;31m         \u001b[0mprint\u001b[0m\u001b[0;34m(\u001b[0m\u001b[0ma\u001b[0m\u001b[0;34m[\u001b[0m\u001b[0ma\u001b[0m\u001b[0;34m.\u001b[0m\u001b[0mapply\u001b[0m\u001b[0;34m(\u001b[0m\u001b[0;32mlambda\u001b[0m \u001b[0mx\u001b[0m\u001b[0;34m:\u001b[0m \u001b[0mzheng\u001b[0m \u001b[0;34m<=\u001b[0m \u001b[0mx\u001b[0m\u001b[0;34m)\u001b[0m\u001b[0;34m]\u001b[0m\u001b[0;34m.\u001b[0m\u001b[0mindex\u001b[0m\u001b[0;34m[\u001b[0m\u001b[0;36m0\u001b[0m\u001b[0;34m]\u001b[0m\u001b[0;34m)\u001b[0m\u001b[0;34m\u001b[0m\u001b[0m\n\u001b[0m\u001b[1;32m     11\u001b[0m \u001b[0;34m\u001b[0m\u001b[0m\n\u001b[1;32m     12\u001b[0m \u001b[0;34m\u001b[0m\u001b[0m\n",
      "\u001b[0;31mTypeError\u001b[0m: '<=' not supported between instances of 'list' and 'set'"
     ]
    }
   ],
   "source": [
    "br1.bianzheng(['怕风'])"
   ]
  },
  {
   "cell_type": "code",
   "execution_count": 15,
   "metadata": {},
   "outputs": [],
   "source": [
    "a2 = list(a1)"
   ]
  },
  {
   "cell_type": "code",
   "execution_count": 16,
   "metadata": {},
   "outputs": [
    {
     "data": {
      "text/plain": [
       "111"
      ]
     },
     "execution_count": 16,
     "metadata": {},
     "output_type": "execute_result"
    }
   ],
   "source": [
    "len(a2)#一共有111个独特的方子,但需要计算重复的"
   ]
  },
  {
   "cell_type": "code",
   "execution_count": 17,
   "metadata": {},
   "outputs": [
    {
     "data": {
      "text/plain": [
       "1"
      ]
     },
     "execution_count": 17,
     "metadata": {},
     "output_type": "execute_result"
    }
   ],
   "source": [
    "a2.count(\"桂枝汤\")"
   ]
  },
  {
   "cell_type": "code",
   "execution_count": 18,
   "metadata": {},
   "outputs": [
    {
     "data": {
      "text/plain": [
       "True"
      ]
     },
     "execution_count": 18,
     "metadata": {},
     "output_type": "execute_result"
    }
   ],
   "source": [
    "sh1.columns.contains(\"桂枝汤\")"
   ]
  },
  {
   "cell_type": "code",
   "execution_count": 19,
   "metadata": {},
   "outputs": [
    {
     "name": "stdout",
     "output_type": "stream",
     "text": [
      "7\n"
     ]
    }
   ],
   "source": [
    "br1.count_all(\"柴胡\")"
   ]
  },
  {
   "cell_type": "code",
   "execution_count": 20,
   "metadata": {},
   "outputs": [
    {
     "data": {
      "text/plain": [
       "Index(['六经', '原文', '方', '证'], dtype='object')"
      ]
     },
     "execution_count": 20,
     "metadata": {},
     "output_type": "execute_result"
    }
   ],
   "source": [
    "sh1.index"
   ]
  },
  {
   "cell_type": "code",
   "execution_count": 8,
   "metadata": {},
   "outputs": [
    {
     "data": {
      "image/png": "[encoded data removed]",
      "text/plain": [
       "<Figure size 792x792 with 1 Axes>"
      ]
     },
     "metadata": {},
     "output_type": "display_data"
    }
   ],
   "source": [
    "br1.draw_dir('小柴胡汤')"
   ]
  },
  {
   "cell_type": "code",
   "execution_count": 22,
   "metadata": {},
   "outputs": [
    {
     "data": {
      "image/png": "[encoded data removed]",
      "text/plain": [
       "<Figure size 792x792 with 1 Axes>"
      ]
     },
     "metadata": {},
     "output_type": "display_data"
    }
   ],
   "source": [
    "br1.draw_dir_all()"
   ]
  },
  {
   "cell_type": "code",
   "execution_count": 23,
   "metadata": {},
   "outputs": [
    {
     "data": {
      "image/png": "[encoded data removed]",
      "text/plain": [
       "<Figure size 792x792 with 1 Axes>"
      ]
     },
     "metadata": {},
     "output_type": "display_data"
    }
   ],
   "source": [
    "br1.draw_dir('桂枝麻黄各半汤')"
   ]
  },
  {
   "cell_type": "code",
   "execution_count": 17,
   "metadata": {},
   "outputs": [
    {
     "data": {
      "image/png": "[encoded data removed]",
      "text/plain": [
       "<Figure size 792x792 with 1 Axes>"
      ]
     },
     "metadata": {},
     "output_type": "display_data"
    }
   ],
   "source": [
    "br1.draw_dir('四逆汤')"
   ]
  },
  {
   "cell_type": "code",
   "execution_count": 18,
   "metadata": {},
   "outputs": [
    {
     "name": "stdout",
     "output_type": "stream",
     "text": [
      "桂枝去芍药加附子汤\n"
     ]
    }
   ],
   "source": [
    "br1.bianzheng({'口苦'})"
   ]
  },
  {
   "cell_type": "code",
   "execution_count": 19,
   "metadata": {},
   "outputs": [
    {
     "name": "stdout",
     "output_type": "stream",
     "text": [
      "桂枝汤\n"
     ]
    }
   ],
   "source": [
    "br1.bianzheng({'怕风'})"
   ]
  },
  {
   "cell_type": "code",
   "execution_count": 20,
   "metadata": {},
   "outputs": [
    {
     "data": {
      "image/png": "[encoded data removed]",
      "text/plain": [
       "<Figure size 792x792 with 1 Axes>"
      ]
     },
     "metadata": {},
     "output_type": "display_data"
    }
   ],
   "source": [
    "br1.draw_dir('桂枝加附子汤')"
   ]
  },
  {
   "cell_type": "code",
   "execution_count": 21,
   "metadata": {},
   "outputs": [
    {
     "name": "stdout",
     "output_type": "stream",
     "text": [
      "65\n"
     ]
    }
   ],
   "source": [
    "br1.count_all('炙甘草')"
   ]
  },
  {
   "cell_type": "code",
   "execution_count": 22,
   "metadata": {},
   "outputs": [
    {
     "data": {
      "text/html": [
       "<div>\n",
       "<style scoped>\n",
       "    .dataframe tbody tr th:only-of-type {\n",
       "        vertical-align: middle;\n",
       "    }\n",
       "\n",
       "    .dataframe tbody tr th {\n",
       "        vertical-align: top;\n",
       "    }\n",
       "\n",
       "    .dataframe thead th {\n",
       "        text-align: right;\n",
       "    }\n",
       "</style>\n",
       "<table border=\"1\" class=\"dataframe\">\n",
       "  <thead>\n",
       "    <tr style=\"text-align: right;\">\n",
       "      <th></th>\n",
       "      <th>桂枝汤</th>\n",
       "      <th>桂枝加葛根汤</th>\n",
       "      <th>桂枝加附子汤</th>\n",
       "      <th>桂枝去芍药汤</th>\n",
       "      <th>桂枝去芍药加附子汤</th>\n",
       "      <th>桂枝麻黄各半汤</th>\n",
       "      <th>桂枝二麻黄一汤</th>\n",
       "      <th>白虎加人参汤</th>\n",
       "      <th>桂枝二越婢一汤</th>\n",
       "      <th>桂枝去桂加茯苓白术汤</th>\n",
       "      <th>...</th>\n",
       "      <th>麻黄升麻汤</th>\n",
       "      <th>干姜黄芩黄连人参汤</th>\n",
       "      <th>白头翁汤</th>\n",
       "      <th>四逆加人参汤</th>\n",
       "      <th>理中丸</th>\n",
       "      <th>通脉四逆加猪胆汤</th>\n",
       "      <th>烧裈散</th>\n",
       "      <th>枳实栀子汤</th>\n",
       "      <th>牡蛎泽泻散</th>\n",
       "      <th>竹叶石膏汤</th>\n",
       "    </tr>\n",
       "  </thead>\n",
       "  <tbody>\n",
       "    <tr>\n",
       "      <th>六经</th>\n",
       "      <td>{'阴阳': '阴', '三经': '厥阴'}</td>\n",
       "      <td>{'阴阳': '阳', '三经': '太阳'}</td>\n",
       "      <td>{'阴阳': '阳', '三经': '太阳'}</td>\n",
       "      <td>{'阴阳': '阳', '三经': '太阳'}</td>\n",
       "      <td>{'阴阳': '阳', '三经': '太阳'}</td>\n",
       "      <td>{'阴阳': '阳', '三经': '太阳'}</td>\n",
       "      <td>{'阴阳': '阳', '三经': '太阳'}</td>\n",
       "      <td>{'阴阳': '阳', '三经': '阳明'}</td>\n",
       "      <td>{'阴阳': '阳', '三经': '太阳'}</td>\n",
       "      <td>{'阴阳': '阳', '三经': '太阳'}</td>\n",
       "      <td>...</td>\n",
       "      <td>{'阴阳': '阴', '三经': '厥阴'}</td>\n",
       "      <td>{'阴阳': '阴', '三经': '厥阴'}</td>\n",
       "      <td>{'阴阳': '阴', '三经': '少阴'}</td>\n",
       "      <td>{'阴阳': '阴', '三经': '厥阴'}</td>\n",
       "      <td>{'阴阳': '阳', '三经': '阳明'}</td>\n",
       "      <td>{'阴阳': '阴', '三经': '厥阴'}</td>\n",
       "      <td>{'阴阳': '阴', '三经': '厥阴'}</td>\n",
       "      <td>{'阴阳': '阴', '三经': '厥阴'}</td>\n",
       "      <td>{'阴阳': '阴', '三经': '厥阴'}</td>\n",
       "      <td>{'阴阳': '阳', '三经': '阳明'}</td>\n",
       "    </tr>\n",
       "    <tr>\n",
       "      <th>原文</th>\n",
       "      <td>{'对应证原文': ['吐利止。而身痛不休者。当消息和解其外。宜桂枝汤小和之。'], '方剂...</td>\n",
       "      <td>{'对应证原文': ['太阳病，项背强几几，反汗出恶风者，桂枝加葛根汤主之。', '太阳与阳...</td>\n",
       "      <td>{'对应证原文': ['太阳病，发汗，遂漏不止，其人恶风，小便难，四支微急，难以屈伸者，桂枝...</td>\n",
       "      <td>{'对应证原文': ['太阳病。下之后。脉促。胸满者。桂枝去芍药汤主之。'], '方剂原文'...</td>\n",
       "      <td>{'对应证原文': ['若微寒者。桂枝去芍药加附子汤主之。'], '方剂原文': '桂枝三两...</td>\n",
       "      <td>{'对应证原文': ['面色反有热色者。未欲解也。以其不能得小汗出 。 身必痒。宜桂枝麻黄各...</td>\n",
       "      <td>{'对应证原文': ['服桂枝汤。大汗出。脉洪大者。与桂枝汤如前法。若形似疟。一日再发者。汗...</td>\n",
       "      <td>{'对应证原文': ['若渴欲饮水。口干舌燥者。白虎加人参汤主之。'], '方剂原文': '...</td>\n",
       "      <td>{'对应证原文': ['太阳病。发热恶寒。热多寒少。脉微弱者。此无阳也。不可发汗。宜桂枝二越...</td>\n",
       "      <td>{'对应证原文': ['服桂枝汤。或下之。仍头项强痛。翕翕发热。无汗。心下满微痛。小便不利者...</td>\n",
       "      <td>...</td>\n",
       "      <td>{'对应证原文': ['伤寒。六七日。大下后。寸脉沉而迟。手足厥逆。下部脉不至。喉咽不利。唾...</td>\n",
       "      <td>{'对应证原文': ['伤寒。本自寒下。医复吐下之。寒格。更逆吐下。若食入口即吐。干姜黄芩黄...</td>\n",
       "      <td>{'对应证原文': ['热利下重者。白头翁汤主之。'], '方剂原文': '白头翁二两 黄蘗...</td>\n",
       "      <td>{'对应证原文': ['恶寒。脉微而复利。利止。亡血也。四逆加人参汤主之。'], '方剂原文...</td>\n",
       "      <td>{'对应证原文': ['大病差后。喜唾。久不了了。胸上有寒。当以丸药温之。宜理中丸。'], ...</td>\n",
       "      <td>{'对应证原文': ['吐已下断。汗出而厥。四肢拘急不解。脉微欲绝者。通脉四逆加猪胆汤主之。...</td>\n",
       "      <td>{'对应证原文': ['伤寒阴易之为病。其人身体重。少气。少腹里急。或引阴中拘挛。热上冲胸。...</td>\n",
       "      <td>{'对应证原文': ['大病差后。劳复者。枳实栀子汤主之。'], '方剂原文': '枳实三枚...</td>\n",
       "      <td>{'对应证原文': ['大病差后。从腰以下有水气者。牡蛎泽泻散主之。'], '方剂原文': ...</td>\n",
       "      <td>{'对应证原文': ['伤寒解后。虚羸少气。气逆欲吐。竹叶石膏汤主之。'], '方剂原文':...</td>\n",
       "    </tr>\n",
       "    <tr>\n",
       "      <th>方</th>\n",
       "      <td>{'桂枝': '3两', '芍药': '3两', '炙甘草': '2两', '生姜': '3...</td>\n",
       "      <td>{'葛根': '4两', '桂枝': '3两', '芍药': '2两', '炙甘草': '2...</td>\n",
       "      <td>{'附子': '1两', '桂枝': '3两', '芍药': '3两', '炙甘草': '3...</td>\n",
       "      <td>{'桂枝': '3两', '炙甘草': '2两', '生姜': '3两', '大枣': '1...</td>\n",
       "      <td>{'桂枝': '3两', '炙甘草': '2两', '生姜': '3两', '大枣': '1...</td>\n",
       "      <td>{'桂枝': '1两16铢', '炙甘草': '1两', '生姜': '1两', '大枣':...</td>\n",
       "      <td>{'桂枝': '1两17铢', '炙甘草': '1两6铢', '生姜': '1两6铢', '...</td>\n",
       "      <td>{'知母': '6两', '石膏': '1斤', '粳米': '6合', '炙甘草': '2...</td>\n",
       "      <td>{'桂枝': '1两', '芍药': '1两', '炙甘草': '1两', '麻黄': '1...</td>\n",
       "      <td>{'白术': '3两', '芍药': '3两', '炙甘草': '2两', '茯苓': '3...</td>\n",
       "      <td>...</td>\n",
       "      <td>{'茯苓': '6株', '炙甘草': '6株', '干姜': '6株', '桂枝': '6...</td>\n",
       "      <td>{'人参': '3两', '黄芩': '3两', '干姜': '3两', '黄连': '3两'}</td>\n",
       "      <td>{'白头翁': '2两', '黄蘗': '3两', '黄连': '3两', '秦皮': '3两'}</td>\n",
       "      <td>{'人参': '1两', '附子': '1枚', '炙甘草': '3两', '干姜': '1...</td>\n",
       "      <td>{'人参': '3两', '干姜': '3两', '炙甘草': '3两', '白术': '3两'}</td>\n",
       "      <td>{'附子': '1枚', '炙甘草': '2两', '干姜': '3两', '猪胆汁': '...</td>\n",
       "      <td>{'妇人中裈近隐处之烧灰': '一些'}</td>\n",
       "      <td>{'枳实': '3枚', '栀子': '14个', '豉': '1升'}</td>\n",
       "      <td>{'柴胡': '0.5斤', '黄芩': '3两', '人参': '3两', '半夏': '...</td>\n",
       "      <td>{'竹叶': '2把', '石膏': '1斤', '半夏': '1升', '麦门冬': '1...</td>\n",
       "    </tr>\n",
       "    <tr>\n",
       "      <th>证</th>\n",
       "      <td>{'体证': ['发热', '鼻涕', '怕冷', '怕风', '干呕', '头痛', '出...</td>\n",
       "      <td>{'体证': ['肌肉酸痛', '怕风'], '脉证': ['无']}</td>\n",
       "      <td>{'体证': ['大量出汗不止', '怕风', '小便难', '四肢难以屈伸'], '脉证'...</td>\n",
       "      <td>{'体证': ['大便后胸胀'], '脉证': ['急促']}</td>\n",
       "      <td>{'体证': ['口苦', '轻微寒冷'], '脉证': ['暂无']}</td>\n",
       "      <td>{'体证': ['身痒'], '脉证': ['暂无']}</td>\n",
       "      <td>{'体证': ['暂无'], '脉证': ['暂无']}</td>\n",
       "      <td>{'体证': ['暂无'], '脉证': ['暂无']}</td>\n",
       "      <td>{'体证': ['发热怕冷', '热多寒少'], '脉证': ['微弱']}</td>\n",
       "      <td>{'体证': ['严重头痛', '发热无汗', '心下满', '小便不多', '身体微痛']...</td>\n",
       "      <td>...</td>\n",
       "      <td>{'体证': ['暂无'], '脉证': ['暂无']}</td>\n",
       "      <td>{'体证': ['暂无'], '脉证': ['暂无']}</td>\n",
       "      <td>{'体证': ['四肢冷', '长期焦虑', '自感体虚', '长期抑郁', '没有精神',...</td>\n",
       "      <td>{'体证': ['喜睡眠', '胸满胁痛'], '脉证': ['脉细']}</td>\n",
       "      <td>{'体证': ['消渴'], '脉证': ['脉沉紧']}</td>\n",
       "      <td>{'体证': ['四肢冷', '长期焦虑', '自感体虚', '长期抑郁', '没有精神',...</td>\n",
       "      <td>{'体证': ['四肢冷', '长期焦虑', '自感体虚', '长期抑郁', '没有精神',...</td>\n",
       "      <td>{'体证': ['四肢冷', '长期焦虑', '自感体虚', '长期抑郁', '没有精神',...</td>\n",
       "      <td>{'体证': ['喜睡眠', '胸满胁痛'], '脉证': ['脉细']}</td>\n",
       "      <td>{'体证': ['消渴'], '脉证': ['脉沉紧']}</td>\n",
       "    </tr>\n",
       "  </tbody>\n",
       "</table>\n",
       "<p>4 rows × 111 columns</p>\n",
       "</div>"
      ],
      "text/plain": [
       "                                                  桂枝汤  \\\n",
       "六经                            {'阴阳': '阴', '三经': '厥阴'}   \n",
       "原文  {'对应证原文': ['吐利止。而身痛不休者。当消息和解其外。宜桂枝汤小和之。'], '方剂...   \n",
       "方   {'桂枝': '3两', '芍药': '3两', '炙甘草': '2两', '生姜': '3...   \n",
       "证   {'体证': ['发热', '鼻涕', '怕冷', '怕风', '干呕', '头痛', '出...   \n",
       "\n",
       "                                               桂枝加葛根汤  \\\n",
       "六经                            {'阴阳': '阳', '三经': '太阳'}   \n",
       "原文  {'对应证原文': ['太阳病，项背强几几，反汗出恶风者，桂枝加葛根汤主之。', '太阳与阳...   \n",
       "方   {'葛根': '4两', '桂枝': '3两', '芍药': '2两', '炙甘草': '2...   \n",
       "证                 {'体证': ['肌肉酸痛', '怕风'], '脉证': ['无']}   \n",
       "\n",
       "                                               桂枝加附子汤  \\\n",
       "六经                            {'阴阳': '阳', '三经': '太阳'}   \n",
       "原文  {'对应证原文': ['太阳病，发汗，遂漏不止，其人恶风，小便难，四支微急，难以屈伸者，桂枝...   \n",
       "方   {'附子': '1两', '桂枝': '3两', '芍药': '3两', '炙甘草': '3...   \n",
       "证   {'体证': ['大量出汗不止', '怕风', '小便难', '四肢难以屈伸'], '脉证'...   \n",
       "\n",
       "                                               桂枝去芍药汤  \\\n",
       "六经                            {'阴阳': '阳', '三经': '太阳'}   \n",
       "原文  {'对应证原文': ['太阳病。下之后。脉促。胸满者。桂枝去芍药汤主之。'], '方剂原文'...   \n",
       "方   {'桂枝': '3两', '炙甘草': '2两', '生姜': '3两', '大枣': '1...   \n",
       "证                     {'体证': ['大便后胸胀'], '脉证': ['急促']}   \n",
       "\n",
       "                                            桂枝去芍药加附子汤  \\\n",
       "六经                            {'阴阳': '阳', '三经': '太阳'}   \n",
       "原文  {'对应证原文': ['若微寒者。桂枝去芍药加附子汤主之。'], '方剂原文': '桂枝三两...   \n",
       "方   {'桂枝': '3两', '炙甘草': '2两', '生姜': '3两', '大枣': '1...   \n",
       "证                {'体证': ['口苦', '轻微寒冷'], '脉证': ['暂无']}   \n",
       "\n",
       "                                              桂枝麻黄各半汤  \\\n",
       "六经                            {'阴阳': '阳', '三经': '太阳'}   \n",
       "原文  {'对应证原文': ['面色反有热色者。未欲解也。以其不能得小汗出 。 身必痒。宜桂枝麻黄各...   \n",
       "方   {'桂枝': '1两16铢', '炙甘草': '1两', '生姜': '1两', '大枣':...   \n",
       "证                        {'体证': ['身痒'], '脉证': ['暂无']}   \n",
       "\n",
       "                                              桂枝二麻黄一汤  \\\n",
       "六经                            {'阴阳': '阳', '三经': '太阳'}   \n",
       "原文  {'对应证原文': ['服桂枝汤。大汗出。脉洪大者。与桂枝汤如前法。若形似疟。一日再发者。汗...   \n",
       "方   {'桂枝': '1两17铢', '炙甘草': '1两6铢', '生姜': '1两6铢', '...   \n",
       "证                        {'体证': ['暂无'], '脉证': ['暂无']}   \n",
       "\n",
       "                                               白虎加人参汤  \\\n",
       "六经                            {'阴阳': '阳', '三经': '阳明'}   \n",
       "原文  {'对应证原文': ['若渴欲饮水。口干舌燥者。白虎加人参汤主之。'], '方剂原文': '...   \n",
       "方   {'知母': '6两', '石膏': '1斤', '粳米': '6合', '炙甘草': '2...   \n",
       "证                        {'体证': ['暂无'], '脉证': ['暂无']}   \n",
       "\n",
       "                                              桂枝二越婢一汤  \\\n",
       "六经                            {'阴阳': '阳', '三经': '太阳'}   \n",
       "原文  {'对应证原文': ['太阳病。发热恶寒。热多寒少。脉微弱者。此无阳也。不可发汗。宜桂枝二越...   \n",
       "方   {'桂枝': '1两', '芍药': '1两', '炙甘草': '1两', '麻黄': '1...   \n",
       "证              {'体证': ['发热怕冷', '热多寒少'], '脉证': ['微弱']}   \n",
       "\n",
       "                                           桂枝去桂加茯苓白术汤  \\\n",
       "六经                            {'阴阳': '阳', '三经': '太阳'}   \n",
       "原文  {'对应证原文': ['服桂枝汤。或下之。仍头项强痛。翕翕发热。无汗。心下满微痛。小便不利者...   \n",
       "方   {'白术': '3两', '芍药': '3两', '炙甘草': '2两', '茯苓': '3...   \n",
       "证   {'体证': ['严重头痛', '发热无汗', '心下满', '小便不多', '身体微痛']...   \n",
       "\n",
       "                          ...                          \\\n",
       "六经                        ...                           \n",
       "原文                        ...                           \n",
       "方                         ...                           \n",
       "证                         ...                           \n",
       "\n",
       "                                                麻黄升麻汤  \\\n",
       "六经                            {'阴阳': '阴', '三经': '厥阴'}   \n",
       "原文  {'对应证原文': ['伤寒。六七日。大下后。寸脉沉而迟。手足厥逆。下部脉不至。喉咽不利。唾...   \n",
       "方   {'茯苓': '6株', '炙甘草': '6株', '干姜': '6株', '桂枝': '6...   \n",
       "证                        {'体证': ['暂无'], '脉证': ['暂无']}   \n",
       "\n",
       "                                            干姜黄芩黄连人参汤  \\\n",
       "六经                            {'阴阳': '阴', '三经': '厥阴'}   \n",
       "原文  {'对应证原文': ['伤寒。本自寒下。医复吐下之。寒格。更逆吐下。若食入口即吐。干姜黄芩黄...   \n",
       "方    {'人参': '3两', '黄芩': '3两', '干姜': '3两', '黄连': '3两'}   \n",
       "证                        {'体证': ['暂无'], '脉证': ['暂无']}   \n",
       "\n",
       "                                                 白头翁汤  \\\n",
       "六经                            {'阴阳': '阴', '三经': '少阴'}   \n",
       "原文  {'对应证原文': ['热利下重者。白头翁汤主之。'], '方剂原文': '白头翁二两 黄蘗...   \n",
       "方   {'白头翁': '2两', '黄蘗': '3两', '黄连': '3两', '秦皮': '3两'}   \n",
       "证   {'体证': ['四肢冷', '长期焦虑', '自感体虚', '长期抑郁', '没有精神',...   \n",
       "\n",
       "                                               四逆加人参汤  \\\n",
       "六经                            {'阴阳': '阴', '三经': '厥阴'}   \n",
       "原文  {'对应证原文': ['恶寒。脉微而复利。利止。亡血也。四逆加人参汤主之。'], '方剂原文...   \n",
       "方   {'人参': '1两', '附子': '1枚', '炙甘草': '3两', '干姜': '1...   \n",
       "证               {'体证': ['喜睡眠', '胸满胁痛'], '脉证': ['脉细']}   \n",
       "\n",
       "                                                  理中丸  \\\n",
       "六经                            {'阴阳': '阳', '三经': '阳明'}   \n",
       "原文  {'对应证原文': ['大病差后。喜唾。久不了了。胸上有寒。当以丸药温之。宜理中丸。'], ...   \n",
       "方   {'人参': '3两', '干姜': '3两', '炙甘草': '3两', '白术': '3两'}   \n",
       "证                       {'体证': ['消渴'], '脉证': ['脉沉紧']}   \n",
       "\n",
       "                                             通脉四逆加猪胆汤  \\\n",
       "六经                            {'阴阳': '阴', '三经': '厥阴'}   \n",
       "原文  {'对应证原文': ['吐已下断。汗出而厥。四肢拘急不解。脉微欲绝者。通脉四逆加猪胆汤主之。...   \n",
       "方   {'附子': '1枚', '炙甘草': '2两', '干姜': '3两', '猪胆汁': '...   \n",
       "证   {'体证': ['四肢冷', '长期焦虑', '自感体虚', '长期抑郁', '没有精神',...   \n",
       "\n",
       "                                                  烧裈散  \\\n",
       "六经                            {'阴阳': '阴', '三经': '厥阴'}   \n",
       "原文  {'对应证原文': ['伤寒阴易之为病。其人身体重。少气。少腹里急。或引阴中拘挛。热上冲胸。...   \n",
       "方                                {'妇人中裈近隐处之烧灰': '一些'}   \n",
       "证   {'体证': ['四肢冷', '长期焦虑', '自感体虚', '长期抑郁', '没有精神',...   \n",
       "\n",
       "                                                枳实栀子汤  \\\n",
       "六经                            {'阴阳': '阴', '三经': '厥阴'}   \n",
       "原文  {'对应证原文': ['大病差后。劳复者。枳实栀子汤主之。'], '方剂原文': '枳实三枚...   \n",
       "方                {'枳实': '3枚', '栀子': '14个', '豉': '1升'}   \n",
       "证   {'体证': ['四肢冷', '长期焦虑', '自感体虚', '长期抑郁', '没有精神',...   \n",
       "\n",
       "                                                牡蛎泽泻散  \\\n",
       "六经                            {'阴阳': '阴', '三经': '厥阴'}   \n",
       "原文  {'对应证原文': ['大病差后。从腰以下有水气者。牡蛎泽泻散主之。'], '方剂原文': ...   \n",
       "方   {'柴胡': '0.5斤', '黄芩': '3两', '人参': '3两', '半夏': '...   \n",
       "证               {'体证': ['喜睡眠', '胸满胁痛'], '脉证': ['脉细']}   \n",
       "\n",
       "                                                竹叶石膏汤  \n",
       "六经                            {'阴阳': '阳', '三经': '阳明'}  \n",
       "原文  {'对应证原文': ['伤寒解后。虚羸少气。气逆欲吐。竹叶石膏汤主之。'], '方剂原文':...  \n",
       "方   {'竹叶': '2把', '石膏': '1斤', '半夏': '1升', '麦门冬': '1...  \n",
       "证                       {'体证': ['消渴'], '脉证': ['脉沉紧']}  \n",
       "\n",
       "[4 rows x 111 columns]"
      ]
     },
     "execution_count": 22,
     "metadata": {},
     "output_type": "execute_result"
    }
   ],
   "source": [
    "sh1"
   ]
  },
  {
   "cell_type": "code",
   "execution_count": 23,
   "metadata": {},
   "outputs": [
    {
     "data": {
      "text/plain": [
       "桂枝汤                         {怕风, 头痛, 怕冷, 出汗, 干呕, 鼻涕, 发热}\n",
       "桂枝加葛根汤                                        {怕风, 肌肉酸痛}\n",
       "桂枝加附子汤                         {怕风, 四肢难以屈伸, 小便难, 大量出汗不止}\n",
       "桂枝去芍药汤                                           {大便后胸胀}\n",
       "桂枝去芍药加附子汤                                     {口苦, 轻微寒冷}\n",
       "桂枝麻黄各半汤                                             {身痒}\n",
       "桂枝二麻黄一汤                                             {暂无}\n",
       "白虎加人参汤                                              {暂无}\n",
       "桂枝二越婢一汤                                     {发热怕冷, 热多寒少}\n",
       "桂枝去桂加茯苓白术汤                 {身体微痛, 小便不多, 严重头痛, 发热无汗, 心下满}\n",
       "甘草干姜汤                                       {烦躁, 吐, 咽喉干}\n",
       "芍药甘草汤                                               {暂无}\n",
       "调胃承气汤                                               {暂无}\n",
       "四逆汤                  {长期焦虑, 长期抑郁, 总想睡觉, 四肢冷, 自感体虚, 没有精神}\n",
       "葛根汤                                         {怕风, 无汗, 背痛}\n",
       "葛根加半夏汤                                          {无小便而呕吐}\n",
       "葛根黄芩黄连汤                                     {喘而出汗, 小便不止}\n",
       "麻黄汤                      {头痛, 怕风, 骨节痛, 无汗而喘, 发热, 腰痛, 身疼}\n",
       "小柴胡汤                                         {胸满胁痛, 喜睡眠}\n",
       "大青龙汤                               {怕冷, 身体痛, 不出汗而烦躁, 发热}\n",
       "小青龙汤                               {怕冷, 身体痛, 不出汗而烦躁, 发热}\n",
       "桂枝加厚朴杏子汤                                            {微喘}\n",
       "干姜附子汤                              {怕冷, 身体痛, 不出汗而烦躁, 发热}\n",
       "桂枝加芍药生姜各一两人参三两新加汤                  {怕冷, 身体痛, 不出汗而烦躁, 发热}\n",
       "麻黄杏仁甘草石膏汤                          {怕冷, 身体痛, 不出汗而烦躁, 发热}\n",
       "桂枝甘草汤                                   {发汗过多, 心悸, 手心冒汗}\n",
       "茯苓桂枝甘草大枣汤                                    {发汗, 肚脐下悸动}\n",
       "茯苓桂枝白术甘草汤                                {起身头眩晕, 心口下气上冲}\n",
       "芍药甘草附子汤                                          {发汗而怕冷}\n",
       "茯苓四逆汤                                            {发汗而怕冷}\n",
       "                                    ...                 \n",
       "麻黄连轺赤小豆汤                                            {消渴}\n",
       "桂枝加芍药汤                      {怕风, 头痛, 怕冷, 出汗, 干呕, 鼻涕, 发热}\n",
       "桂枝加大黄汤                      {怕风, 头痛, 怕冷, 出汗, 干呕, 鼻涕, 发热}\n",
       "麻黄细辛附子汤                     {怕风, 头痛, 怕冷, 出汗, 干呕, 鼻涕, 发热}\n",
       "麻黄附子甘草汤                     {怕风, 头痛, 怕冷, 出汗, 干呕, 鼻涕, 发热}\n",
       "黄连阿胶汤                       {怕风, 头痛, 怕冷, 出汗, 干呕, 鼻涕, 发热}\n",
       "附子汤                         {怕风, 头痛, 怕冷, 出汗, 干呕, 鼻涕, 发热}\n",
       "桃花汤                         {怕风, 头痛, 怕冷, 出汗, 干呕, 鼻涕, 发热}\n",
       "猪肤汤                         {怕风, 头痛, 怕冷, 出汗, 干呕, 鼻涕, 发热}\n",
       "甘草汤                         {怕风, 头痛, 怕冷, 出汗, 干呕, 鼻涕, 发热}\n",
       "桔梗汤                         {怕风, 头痛, 怕冷, 出汗, 干呕, 鼻涕, 发热}\n",
       "苦酒汤                         {怕风, 头痛, 怕冷, 出汗, 干呕, 鼻涕, 发热}\n",
       "半夏散及汤                       {怕风, 头痛, 怕冷, 出汗, 干呕, 鼻涕, 发热}\n",
       "白通汤                         {怕风, 头痛, 怕冷, 出汗, 干呕, 鼻涕, 发热}\n",
       "白通加猪胆汁汤                     {怕风, 头痛, 怕冷, 出汗, 干呕, 鼻涕, 发热}\n",
       "通脉四逆汤                {长期焦虑, 长期抑郁, 总想睡觉, 四肢冷, 自感体虚, 没有精神}\n",
       "四逆散                  {长期焦虑, 长期抑郁, 总想睡觉, 四肢冷, 自感体虚, 没有精神}\n",
       "乌梅丸                  {长期焦虑, 长期抑郁, 总想睡觉, 四肢冷, 自感体虚, 没有精神}\n",
       "当归四逆汤                {长期焦虑, 长期抑郁, 总想睡觉, 四肢冷, 自感体虚, 没有精神}\n",
       "当归四逆加吴茱萸生姜汤          {长期焦虑, 长期抑郁, 总想睡觉, 四肢冷, 自感体虚, 没有精神}\n",
       "麻黄升麻汤                                               {暂无}\n",
       "干姜黄芩黄连人参汤                                           {暂无}\n",
       "白头翁汤                 {长期焦虑, 长期抑郁, 总想睡觉, 四肢冷, 自感体虚, 没有精神}\n",
       "四逆加人参汤                                       {胸满胁痛, 喜睡眠}\n",
       "理中丸                                                 {消渴}\n",
       "通脉四逆加猪胆汤             {长期焦虑, 长期抑郁, 总想睡觉, 四肢冷, 自感体虚, 没有精神}\n",
       "烧裈散                  {长期焦虑, 长期抑郁, 总想睡觉, 四肢冷, 自感体虚, 没有精神}\n",
       "枳实栀子汤                {长期焦虑, 长期抑郁, 总想睡觉, 四肢冷, 自感体虚, 没有精神}\n",
       "牡蛎泽泻散                                        {胸满胁痛, 喜睡眠}\n",
       "竹叶石膏汤                                               {消渴}\n",
       "Name: 证, Length: 111, dtype: object"
      ]
     },
     "execution_count": 23,
     "metadata": {},
     "output_type": "execute_result"
    }
   ],
   "source": [
    "sh1.loc['证'].apply(lambda x: set(x['体证']))"
   ]
  },
  {
   "cell_type": "code",
   "execution_count": 24,
   "metadata": {},
   "outputs": [
    {
     "data": {
      "text/plain": [
       "桂枝汤                  {'体证': ['发热', '鼻涕', '怕冷', '怕风', '干呕', '头痛', '出...\n",
       "桂枝加葛根汤                             {'体证': ['肌肉酸痛', '怕风'], '脉证': ['无']}\n",
       "桂枝加附子汤               {'体证': ['大量出汗不止', '怕风', '小便难', '四肢难以屈伸'], '脉证'...\n",
       "桂枝去芍药汤                                 {'体证': ['大便后胸胀'], '脉证': ['急促']}\n",
       "桂枝去芍药加附子汤                         {'体证': ['口苦', '轻微寒冷'], '脉证': ['暂无']}\n",
       "桂枝麻黄各半汤                                   {'体证': ['身痒'], '脉证': ['暂无']}\n",
       "桂枝二麻黄一汤                                   {'体证': ['暂无'], '脉证': ['暂无']}\n",
       "白虎加人参汤                                    {'体证': ['暂无'], '脉证': ['暂无']}\n",
       "桂枝二越婢一汤                         {'体证': ['发热怕冷', '热多寒少'], '脉证': ['微弱']}\n",
       "桂枝去桂加茯苓白术汤           {'体证': ['严重头痛', '发热无汗', '心下满', '小便不多', '身体微痛']...\n",
       "甘草干姜汤                         {'体证': ['咽喉干', '烦躁', '吐'], '脉证': ['暂无']}\n",
       "芍药甘草汤                                     {'体证': ['暂无'], '脉证': ['暂无']}\n",
       "调胃承气汤                                    {'体证': ['暂无'], '脉证': ['脉沉紧']}\n",
       "四逆汤                  {'体证': ['四肢冷', '长期焦虑', '自感体虚', '长期抑郁', '没有精神',...\n",
       "葛根汤                           {'体证': ['无汗', '背痛', '怕风'], '脉证': ['暂无']}\n",
       "葛根加半夏汤                                {'体证': ['无小便而呕吐'], '脉证': ['暂无']}\n",
       "葛根黄芩黄连汤                         {'体证': ['小便不止', '喘而出汗'], '脉证': ['脉促']}\n",
       "麻黄汤                  {'体证': ['头痛', '发热', '身疼', '腰痛', '骨节痛', '怕风', '...\n",
       "小柴胡汤                             {'体证': ['喜睡眠', '胸满胁痛'], '脉证': ['脉细']}\n",
       "大青龙汤                 {'体证': ['发热', '怕冷', '身体痛', '不出汗而烦躁'], '脉证': ['...\n",
       "小青龙汤                 {'体证': ['发热', '怕冷', '身体痛', '不出汗而烦躁'], '脉证': ['...\n",
       "桂枝加厚朴杏子汤                                 {'体证': ['微喘'], '脉证': ['脉浮紧']}\n",
       "干姜附子汤                {'体证': ['发热', '怕冷', '身体痛', '不出汗而烦躁'], '脉证': ['...\n",
       "桂枝加芍药生姜各一两人参三两新加汤    {'体证': ['发热', '怕冷', '身体痛', '不出汗而烦躁'], '脉证': ['...\n",
       "麻黄杏仁甘草石膏汤            {'体证': ['发热', '怕冷', '身体痛', '不出汗而烦躁'], '脉证': ['...\n",
       "桂枝甘草汤                    {'体证': ['心悸', '手心冒汗', '发汗过多'], '脉证': ['脉浮紧']}\n",
       "茯苓桂枝甘草大枣汤                       {'体证': ['肚脐下悸动', '发汗'], '脉证': ['脉浮紧']}\n",
       "茯苓桂枝白术甘草汤                   {'体证': ['起身头眩晕', '心口下气上冲'], '脉证': ['脉沉紧']}\n",
       "芍药甘草附子汤                               {'体证': ['发汗而怕冷'], '脉证': ['脉沉紧']}\n",
       "茯苓四逆汤                                 {'体证': ['发汗而怕冷'], '脉证': ['脉沉紧']}\n",
       "                                           ...                        \n",
       "麻黄连轺赤小豆汤                                 {'体证': ['消渴'], '脉证': ['脉沉紧']}\n",
       "桂枝加芍药汤               {'体证': ['发热', '鼻涕', '怕冷', '怕风', '干呕', '头痛', '出...\n",
       "桂枝加大黄汤               {'体证': ['发热', '鼻涕', '怕冷', '怕风', '干呕', '头痛', '出...\n",
       "麻黄细辛附子汤              {'体证': ['发热', '鼻涕', '怕冷', '怕风', '干呕', '头痛', '出...\n",
       "麻黄附子甘草汤              {'体证': ['发热', '鼻涕', '怕冷', '怕风', '干呕', '头痛', '出...\n",
       "黄连阿胶汤                {'体证': ['发热', '鼻涕', '怕冷', '怕风', '干呕', '头痛', '出...\n",
       "附子汤                  {'体证': ['发热', '鼻涕', '怕冷', '怕风', '干呕', '头痛', '出...\n",
       "桃花汤                  {'体证': ['发热', '鼻涕', '怕冷', '怕风', '干呕', '头痛', '出...\n",
       "猪肤汤                  {'体证': ['发热', '鼻涕', '怕冷', '怕风', '干呕', '头痛', '出...\n",
       "甘草汤                  {'体证': ['发热', '鼻涕', '怕冷', '怕风', '干呕', '头痛', '出...\n",
       "桔梗汤                  {'体证': ['发热', '鼻涕', '怕冷', '怕风', '干呕', '头痛', '出...\n",
       "苦酒汤                  {'体证': ['发热', '鼻涕', '怕冷', '怕风', '干呕', '头痛', '出...\n",
       "半夏散及汤                {'体证': ['发热', '鼻涕', '怕冷', '怕风', '干呕', '头痛', '出...\n",
       "白通汤                  {'体证': ['发热', '鼻涕', '怕冷', '怕风', '干呕', '头痛', '出...\n",
       "白通加猪胆汁汤              {'体证': ['发热', '鼻涕', '怕冷', '怕风', '干呕', '头痛', '出...\n",
       "通脉四逆汤                {'体证': ['四肢冷', '长期焦虑', '自感体虚', '长期抑郁', '没有精神',...\n",
       "四逆散                  {'体证': ['四肢冷', '长期焦虑', '自感体虚', '长期抑郁', '没有精神',...\n",
       "乌梅丸                  {'体证': ['四肢冷', '长期焦虑', '自感体虚', '长期抑郁', '没有精神',...\n",
       "当归四逆汤                {'体证': ['四肢冷', '长期焦虑', '自感体虚', '长期抑郁', '没有精神',...\n",
       "当归四逆加吴茱萸生姜汤          {'体证': ['四肢冷', '长期焦虑', '自感体虚', '长期抑郁', '没有精神',...\n",
       "麻黄升麻汤                                     {'体证': ['暂无'], '脉证': ['暂无']}\n",
       "干姜黄芩黄连人参汤                                 {'体证': ['暂无'], '脉证': ['暂无']}\n",
       "白头翁汤                 {'体证': ['四肢冷', '长期焦虑', '自感体虚', '长期抑郁', '没有精神',...\n",
       "四逆加人参汤                           {'体证': ['喜睡眠', '胸满胁痛'], '脉证': ['脉细']}\n",
       "理中丸                                      {'体证': ['消渴'], '脉证': ['脉沉紧']}\n",
       "通脉四逆加猪胆汤             {'体证': ['四肢冷', '长期焦虑', '自感体虚', '长期抑郁', '没有精神',...\n",
       "烧裈散                  {'体证': ['四肢冷', '长期焦虑', '自感体虚', '长期抑郁', '没有精神',...\n",
       "枳实栀子汤                {'体证': ['四肢冷', '长期焦虑', '自感体虚', '长期抑郁', '没有精神',...\n",
       "牡蛎泽泻散                            {'体证': ['喜睡眠', '胸满胁痛'], '脉证': ['脉细']}\n",
       "竹叶石膏汤                                    {'体证': ['消渴'], '脉证': ['脉沉紧']}\n",
       "Name: 证, Length: 111, dtype: object"
      ]
     },
     "execution_count": 24,
     "metadata": {},
     "output_type": "execute_result"
    }
   ],
   "source": [
    "sh1.loc['证']"
   ]
  },
  {
   "cell_type": "code",
   "execution_count": 27,
   "metadata": {},
   "outputs": [],
   "source": [
    "zz = {'鼻涕','怕风'}"
   ]
  },
  {
   "cell_type": "code",
   "execution_count": 28,
   "metadata": {},
   "outputs": [],
   "source": [
    "a = sh1.loc['证'].apply(lambda x: set(x['体证']))"
   ]
  },
  {
   "cell_type": "code",
   "execution_count": 29,
   "metadata": {},
   "outputs": [
    {
     "name": "stdout",
     "output_type": "stream",
     "text": [
      "桂枝汤\n"
     ]
    }
   ],
   "source": [
    "print(a[a.apply(lambda x: zz < x)].index[0])"
   ]
  },
  {
   "cell_type": "code",
   "execution_count": 30,
   "metadata": {},
   "outputs": [],
   "source": [
    "s = '怕风'"
   ]
  },
  {
   "cell_type": "code",
   "execution_count": 31,
   "metadata": {},
   "outputs": [
    {
     "data": {
      "text/plain": [
       "\"'怕风'\""
      ]
     },
     "execution_count": 31,
     "metadata": {},
     "output_type": "execute_result"
    }
   ],
   "source": [
    "repr(s)"
   ]
  },
  {
   "cell_type": "code",
   "execution_count": 32,
   "metadata": {},
   "outputs": [
    {
     "name": "stdout",
     "output_type": "stream",
     "text": [
      "怕风\n"
     ]
    }
   ],
   "source": [
    "print(str(s))"
   ]
  },
  {
   "cell_type": "code",
   "execution_count": 33,
   "metadata": {},
   "outputs": [
    {
     "ename": "KeyError",
     "evalue": "'桂枝'",
     "output_type": "error",
     "traceback": [
      "\u001b[0;31m---------------------------------------------------------------------------\u001b[0m",
      "\u001b[0;31mKeyError\u001b[0m                                  Traceback (most recent call last)",
      "\u001b[0;32m<ipython-input-33-6ba24e1e7e9a>\u001b[0m in \u001b[0;36m<module>\u001b[0;34m()\u001b[0m\n\u001b[0;32m----> 1\u001b[0;31m \u001b[0mlen\u001b[0m\u001b[0;34m(\u001b[0m\u001b[0msh1\u001b[0m\u001b[0;34m.\u001b[0m\u001b[0mloc\u001b[0m\u001b[0;34m[\u001b[0m\u001b[0;34m'方'\u001b[0m\u001b[0;34m]\u001b[0m\u001b[0;34m.\u001b[0m\u001b[0mapply\u001b[0m\u001b[0;34m(\u001b[0m\u001b[0;32mlambda\u001b[0m \u001b[0mx\u001b[0m\u001b[0;34m:\u001b[0m \u001b[0mx\u001b[0m\u001b[0;34m[\u001b[0m\u001b[0;34m'桂枝'\u001b[0m\u001b[0;34m]\u001b[0m\u001b[0;34m)\u001b[0m\u001b[0;34m)\u001b[0m\u001b[0;34m\u001b[0m\u001b[0m\n\u001b[0m",
      "\u001b[0;32m/anaconda3/lib/python3.7/site-packages/pandas/core/series.py\u001b[0m in \u001b[0;36mapply\u001b[0;34m(self, func, convert_dtype, args, **kwds)\u001b[0m\n\u001b[1;32m   3192\u001b[0m             \u001b[0;32melse\u001b[0m\u001b[0;34m:\u001b[0m\u001b[0;34m\u001b[0m\u001b[0m\n\u001b[1;32m   3193\u001b[0m                 \u001b[0mvalues\u001b[0m \u001b[0;34m=\u001b[0m \u001b[0mself\u001b[0m\u001b[0;34m.\u001b[0m\u001b[0mastype\u001b[0m\u001b[0;34m(\u001b[0m\u001b[0mobject\u001b[0m\u001b[0;34m)\u001b[0m\u001b[0;34m.\u001b[0m\u001b[0mvalues\u001b[0m\u001b[0;34m\u001b[0m\u001b[0m\n\u001b[0;32m-> 3194\u001b[0;31m                 \u001b[0mmapped\u001b[0m \u001b[0;34m=\u001b[0m \u001b[0mlib\u001b[0m\u001b[0;34m.\u001b[0m\u001b[0mmap_infer\u001b[0m\u001b[0;34m(\u001b[0m\u001b[0mvalues\u001b[0m\u001b[0;34m,\u001b[0m \u001b[0mf\u001b[0m\u001b[0;34m,\u001b[0m \u001b[0mconvert\u001b[0m\u001b[0;34m=\u001b[0m\u001b[0mconvert_dtype\u001b[0m\u001b[0;34m)\u001b[0m\u001b[0;34m\u001b[0m\u001b[0m\n\u001b[0m\u001b[1;32m   3195\u001b[0m \u001b[0;34m\u001b[0m\u001b[0m\n\u001b[1;32m   3196\u001b[0m         \u001b[0;32mif\u001b[0m \u001b[0mlen\u001b[0m\u001b[0;34m(\u001b[0m\u001b[0mmapped\u001b[0m\u001b[0;34m)\u001b[0m \u001b[0;32mand\u001b[0m \u001b[0misinstance\u001b[0m\u001b[0;34m(\u001b[0m\u001b[0mmapped\u001b[0m\u001b[0;34m[\u001b[0m\u001b[0;36m0\u001b[0m\u001b[0;34m]\u001b[0m\u001b[0;34m,\u001b[0m \u001b[0mSeries\u001b[0m\u001b[0;34m)\u001b[0m\u001b[0;34m:\u001b[0m\u001b[0;34m\u001b[0m\u001b[0m\n",
      "\u001b[0;32mpandas/_libs/src/inference.pyx\u001b[0m in \u001b[0;36mpandas._libs.lib.map_infer\u001b[0;34m()\u001b[0m\n",
      "\u001b[0;32m<ipython-input-33-6ba24e1e7e9a>\u001b[0m in \u001b[0;36m<lambda>\u001b[0;34m(x)\u001b[0m\n\u001b[0;32m----> 1\u001b[0;31m \u001b[0mlen\u001b[0m\u001b[0;34m(\u001b[0m\u001b[0msh1\u001b[0m\u001b[0;34m.\u001b[0m\u001b[0mloc\u001b[0m\u001b[0;34m[\u001b[0m\u001b[0;34m'方'\u001b[0m\u001b[0;34m]\u001b[0m\u001b[0;34m.\u001b[0m\u001b[0mapply\u001b[0m\u001b[0;34m(\u001b[0m\u001b[0;32mlambda\u001b[0m \u001b[0mx\u001b[0m\u001b[0;34m:\u001b[0m \u001b[0mx\u001b[0m\u001b[0;34m[\u001b[0m\u001b[0;34m'桂枝'\u001b[0m\u001b[0;34m]\u001b[0m\u001b[0;34m)\u001b[0m\u001b[0;34m)\u001b[0m\u001b[0;34m\u001b[0m\u001b[0m\n\u001b[0m",
      "\u001b[0;31mKeyError\u001b[0m: '桂枝'"
     ]
    }
   ],
   "source": [
    "len(sh1.loc['方'].apply(lambda x: x['桂枝']))"
   ]
  },
  {
   "cell_type": "code",
   "execution_count": 34,
   "metadata": {},
   "outputs": [
    {
     "name": "stdout",
     "output_type": "stream",
     "text": [
      "六经                              {'阴阳': '阴', '三经': '厥阴'}\n",
      "原文    {'对应证原文': ['吐利汗出。发热恶寒。四肢拘急。手足厥冷者。四逆汤主之。', '既吐且...\n",
      "方                 {'附子': '1枚', '炙甘草': '2两', '干姜': '1两'}\n",
      "证     {'体证': ['四肢冷', '长期焦虑', '自感体虚', '长期抑郁', '没有精神',...\n",
      "Name: 四逆汤, dtype: object\n"
     ]
    }
   ],
   "source": [
    "br1.find('四逆汤')"
   ]
  },
  {
   "cell_type": "code",
   "execution_count": 35,
   "metadata": {},
   "outputs": [
    {
     "data": {
      "text/html": [
       "<div>\n",
       "<style scoped>\n",
       "    .dataframe tbody tr th:only-of-type {\n",
       "        vertical-align: middle;\n",
       "    }\n",
       "\n",
       "    .dataframe tbody tr th {\n",
       "        vertical-align: top;\n",
       "    }\n",
       "\n",
       "    .dataframe thead th {\n",
       "        text-align: right;\n",
       "    }\n",
       "</style>\n",
       "<table border=\"1\" class=\"dataframe\">\n",
       "  <thead>\n",
       "    <tr style=\"text-align: right;\">\n",
       "      <th></th>\n",
       "      <th>中轴(土)</th>\n",
       "      <th>向下(金)</th>\n",
       "      <th>火</th>\n",
       "      <th>收藏(水)</th>\n",
       "      <th>向上(木)</th>\n",
       "    </tr>\n",
       "  </thead>\n",
       "  <tbody>\n",
       "    <tr>\n",
       "      <th>味</th>\n",
       "      <td>甘甜</td>\n",
       "      <td>酸</td>\n",
       "      <td>咸</td>\n",
       "      <td>苦</td>\n",
       "      <td>辛辣</td>\n",
       "    </tr>\n",
       "    <tr>\n",
       "      <th>药物</th>\n",
       "      <td>[炙甘草, 人参, 大枣, 茯苓, 胶饴, 麦门冬, 升麻, 瓜蒂, 鸡子黄]</td>\n",
       "      <td>[芍药, 柴胡, 杏仁, 石膏, 五味子, 枳实, 铅丹, 龙骨, 牡蛎, 豉, 香豉]</td>\n",
       "      <td>[大黄, 芒硝, 黄连, 黄芩, 泽泻, 厚朴, 通草, 葱白]</td>\n",
       "      <td>[地黄, 麻黄, 葛根, 白术, 知母, 猪苓, 栀子, 香豉, 竹叶, 栀子]</td>\n",
       "      <td>[生姜, 附子, 桂枝, 半夏, 干姜, 粳米, 细辛, 阿胶, 赤小豆, 蜀椒]</td>\n",
       "    </tr>\n",
       "  </tbody>\n",
       "</table>\n",
       "</div>"
      ],
      "text/plain": [
       "                                      中轴(土)  \\\n",
       "味                                        甘甜   \n",
       "药物  [炙甘草, 人参, 大枣, 茯苓, 胶饴, 麦门冬, 升麻, 瓜蒂, 鸡子黄]   \n",
       "\n",
       "                                           向下(金)  \\\n",
       "味                                              酸   \n",
       "药物  [芍药, 柴胡, 杏仁, 石膏, 五味子, 枳实, 铅丹, 龙骨, 牡蛎, 豉, 香豉]   \n",
       "\n",
       "                                   火  \\\n",
       "味                                  咸   \n",
       "药物  [大黄, 芒硝, 黄连, 黄芩, 泽泻, 厚朴, 通草, 葱白]   \n",
       "\n",
       "                                       收藏(水)  \\\n",
       "味                                          苦   \n",
       "药物  [地黄, 麻黄, 葛根, 白术, 知母, 猪苓, 栀子, 香豉, 竹叶, 栀子]   \n",
       "\n",
       "                                        向上(木)  \n",
       "味                                          辛辣  \n",
       "药物  [生姜, 附子, 桂枝, 半夏, 干姜, 粳米, 细辛, 阿胶, 赤小豆, 蜀椒]  "
      ]
     },
     "execution_count": 35,
     "metadata": {},
     "output_type": "execute_result"
    }
   ],
   "source": [
    "w"
   ]
  },
  {
   "cell_type": "code",
   "execution_count": 36,
   "metadata": {},
   "outputs": [
    {
     "data": {
      "text/plain": [
       "{0: 0, 1: 1, 2: 2, 3: 3, 4: 4, 5: 5, 6: 6, 7: 7, 8: 8, 9: 9}"
      ]
     },
     "execution_count": 36,
     "metadata": {},
     "output_type": "execute_result"
    }
   ],
   "source": [
    "{i: i for i in range(10)}"
   ]
  },
  {
   "cell_type": "code",
   "execution_count": 37,
   "metadata": {},
   "outputs": [
    {
     "data": {
      "text/plain": [
       "{'炙甘草': '中轴(土)',\n",
       " '人参': '中轴(土)',\n",
       " '大枣': '中轴(土)',\n",
       " '茯苓': '中轴(土)',\n",
       " '胶饴': '中轴(土)',\n",
       " '麦门冬': '中轴(土)',\n",
       " '升麻': '中轴(土)',\n",
       " '瓜蒂': '中轴(土)',\n",
       " '鸡子黄': '中轴(土)',\n",
       " '芍药': '向下(金)',\n",
       " '柴胡': '向下(金)',\n",
       " '杏仁': '向下(金)',\n",
       " '石膏': '向下(金)',\n",
       " '五味子': '向下(金)',\n",
       " '枳实': '向下(金)',\n",
       " '铅丹': '向下(金)',\n",
       " '龙骨': '向下(金)',\n",
       " '牡蛎': '向下(金)',\n",
       " '豉': '向下(金)',\n",
       " '香豉': '收藏(水)',\n",
       " '大黄': '火',\n",
       " '芒硝': '火',\n",
       " '黄连': '火',\n",
       " '黄芩': '火',\n",
       " '泽泻': '火',\n",
       " '厚朴': '火',\n",
       " '通草': '火',\n",
       " '葱白': '火',\n",
       " '地黄': '收藏(水)',\n",
       " '麻黄': '收藏(水)',\n",
       " '葛根': '收藏(水)',\n",
       " '白术': '收藏(水)',\n",
       " '知母': '收藏(水)',\n",
       " '猪苓': '收藏(水)',\n",
       " '栀子': '收藏(水)',\n",
       " '竹叶': '收藏(水)',\n",
       " '生姜': '向上(木)',\n",
       " '附子': '向上(木)',\n",
       " '桂枝': '向上(木)',\n",
       " '半夏': '向上(木)',\n",
       " '干姜': '向上(木)',\n",
       " '粳米': '向上(木)',\n",
       " '细辛': '向上(木)',\n",
       " '阿胶': '向上(木)',\n",
       " '赤小豆': '向上(木)',\n",
       " '蜀椒': '向上(木)'}"
      ]
     },
     "execution_count": 37,
     "metadata": {},
     "output_type": "execute_result"
    }
   ],
   "source": [
    "{y: sx for sx, yao in w.loc[\"药物\"].iteritems() for y in yao}  # 字典生成shi"
   ]
  },
  {
   "cell_type": "code",
   "execution_count": 38,
   "metadata": {},
   "outputs": [
    {
     "data": {
      "text/plain": [
       "{'炙甘草': '中轴(土)',\n",
       " '人参': '中轴(土)',\n",
       " '大枣': '中轴(土)',\n",
       " '茯苓': '中轴(土)',\n",
       " '胶饴': '中轴(土)',\n",
       " '麦门冬': '中轴(土)',\n",
       " '升麻': '中轴(土)',\n",
       " '瓜蒂': '中轴(土)',\n",
       " '鸡子黄': '中轴(土)',\n",
       " '芍药': '向下(金)',\n",
       " '柴胡': '向下(金)',\n",
       " '杏仁': '向下(金)',\n",
       " '石膏': '向下(金)',\n",
       " '五味子': '向下(金)',\n",
       " '枳实': '向下(金)',\n",
       " '铅丹': '向下(金)',\n",
       " '龙骨': '向下(金)',\n",
       " '牡蛎': '向下(金)',\n",
       " '豉': '向下(金)',\n",
       " '香豉': '收藏(水)',\n",
       " '大黄': '火',\n",
       " '芒硝': '火',\n",
       " '黄连': '火',\n",
       " '黄芩': '火',\n",
       " '泽泻': '火',\n",
       " '厚朴': '火',\n",
       " '通草': '火',\n",
       " '葱白': '火',\n",
       " '地黄': '收藏(水)',\n",
       " '麻黄': '收藏(水)',\n",
       " '葛根': '收藏(水)',\n",
       " '白术': '收藏(水)',\n",
       " '知母': '收藏(水)',\n",
       " '猪苓': '收藏(水)',\n",
       " '栀子': '收藏(水)',\n",
       " '竹叶': '收藏(水)',\n",
       " '生姜': '向上(木)',\n",
       " '附子': '向上(木)',\n",
       " '桂枝': '向上(木)',\n",
       " '半夏': '向上(木)',\n",
       " '干姜': '向上(木)',\n",
       " '粳米': '向上(木)',\n",
       " '细辛': '向上(木)',\n",
       " '阿胶': '向上(木)',\n",
       " '赤小豆': '向上(木)',\n",
       " '蜀椒': '向上(木)'}"
      ]
     },
     "execution_count": 38,
     "metadata": {},
     "output_type": "execute_result"
    }
   ],
   "source": [
    "y_x = {}\n",
    "for sx, yao in w.loc[\"药物\"].iteritems():\n",
    "    for y in yao:\n",
    "        y_x[y] = sx\n",
    "y_x"
   ]
  },
  {
   "cell_type": "code",
   "execution_count": null,
   "metadata": {},
   "outputs": [],
   "source": [
    "sh1"
   ]
  },
  {
   "cell_type": "code",
   "execution_count": null,
   "metadata": {},
   "outputs": [],
   "source": [
    "fang = sh1.loc[\"方\"]\n",
    "fang"
   ]
  },
  {
   "cell_type": "code",
   "execution_count": null,
   "metadata": {},
   "outputs": [],
   "source": [
    "sx = [y_x.get(y, \"土\") for f in fang for y in f]\n",
    "sx_len = len(sx)\n",
    "{y: cnt / sx_len for y, cnt in collections.Counter(sx).items()}"
   ]
  },
  {
   "cell_type": "code",
   "execution_count": null,
   "metadata": {},
   "outputs": [],
   "source": [
    "import collections\n",
    "\n",
    "def count(x):\n",
    "    sx = [y_x.get(y, \"土\") for y in x]\n",
    "    x_len = len(x)\n",
    "#     d = {}\n",
    "#     print(sx)\n",
    "#     for s, cnt in collections.Counter(sx).items():\n",
    "#         d[s] = cnt / x_len\n",
    "#     return d\n",
    "    return {s: cnt / x_len for s, cnt in collections.Counter(sx).items()}#字典解析\n",
    "\n",
    "q1 = fang.apply(count)\n",
    "\n",
    "fig = plt.figure()\n",
    "plt.pie(x,labels=labels,autopct='%1.2f%%') #画饼图（数据，数据对应的标签，百分数保留两位小数点）\n",
    "plt.title(\"Pie chart\")\n",
    "  \n",
    " \n",
    "plt.show()"
   ]
  },
  {
   "cell_type": "code",
   "execution_count": null,
   "metadata": {},
   "outputs": [],
   "source": [
    "import collections"
   ]
  },
  {
   "cell_type": "code",
   "execution_count": null,
   "metadata": {},
   "outputs": [],
   "source": [
    "collections.Counter([1, 1, 3]).items()"
   ]
  },
  {
   "cell_type": "code",
   "execution_count": null,
   "metadata": {},
   "outputs": [],
   "source": [
    "sh1.head()"
   ]
  },
  {
   "cell_type": "code",
   "execution_count": null,
   "metadata": {},
   "outputs": [],
   "source": [
    "sh1.shape#貌似没算重复,这个不行"
   ]
  },
  {
   "cell_type": "code",
   "execution_count": 8,
   "metadata": {},
   "outputs": [
    {
     "data": {
      "text/plain": [
       "六经                              {'阴阳': '阴', '三经': '厥阴'}\n",
       "原文    {'对应证原文': ['吐利止。而身痛不休者。当消息和解其外。宜桂枝汤小和之。'], '方剂...\n",
       "方     {'桂枝': '3两', '芍药': '3两', '炙甘草': '2两', '生姜': '3...\n",
       "证     {'体证': ['发热', '鼻涕', '怕冷', '怕风', '干呕', '头痛', '出...\n",
       "Name: 桂枝汤, dtype: object"
      ]
     },
     "execution_count": 8,
     "metadata": {},
     "output_type": "execute_result"
    }
   ],
   "source": [
    "sh1.桂枝汤"
   ]
  },
  {
   "cell_type": "code",
   "execution_count": null,
   "metadata": {},
   "outputs": [],
   "source": []
  }
 ],
 "metadata": {
  "kernelspec": {
   "display_name": "Python 3",
   "language": "python",
   "name": "python3"
  },
  "language_info": {
   "codemirror_mode": {
    "name": "ipython",
    "version": 3
   },
   "file_extension": ".py",
   "mimetype": "text/x-python",
   "name": "python",
   "nbconvert_exporter": "python",
   "pygments_lexer": "ipython3",
   "version": "3.7.0"
  }
 },
 "nbformat": 4,
 "nbformat_minor": 2
}
