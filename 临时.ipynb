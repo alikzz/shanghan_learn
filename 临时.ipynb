{
 "cells": [
  {
   "cell_type": "code",
   "execution_count": 1,
   "metadata": {},
   "outputs": [],
   "source": [
    "import sys\n",
    "import pandas as pd\n",
    "import numpy as np\n",
    "import collections\n",
    "\n",
    "import matplotlib.mlab as mlab  \n",
    "import matplotlib.pyplot as plt\n",
    "\n",
    "from matplotlib import font_manager as fm\n",
    "from  matplotlib import cm"
   ]
  },
  {
   "cell_type": "code",
   "execution_count": 96,
   "metadata": {},
   "outputs": [],
   "source": [
    "sh1 = pd.read_json('data/SH_ty2.json')\n",
    "wx1 = pd.read_json('data/WX_yao.json')\n",
    "wx = {y: sx for sx, yao in wx1.loc[\"药物\"].iteritems() for y in yao}"
   ]
  },
  {
   "cell_type": "code",
   "execution_count": 3,
   "metadata": {},
   "outputs": [],
   "source": [
    "class Shanghan():\n",
    "    def __init__(self):\n",
    "        self.sh1 = pd.read_json('data/SH_ty2.json')\n",
    "        self.wx1 = pd.read_json('data/WX_yao.json')\n",
    "        self.wx = {y: sx for sx, yao in self.wx1.loc[\"药物\"].iteritems() for y in yao}\n",
    "        \n",
    "    def count_fang(self,fang):\n",
    "        a = self.sh1.loc['名'].str.match(fang).sum()\n",
    "        print(a)\n",
    "        \n",
    "    def count_fang_all(self):\n",
    "        l1 = {}\n",
    "        for i in self.sh1.loc['名'].items():\n",
    "            l1[i[1]] = self.sh1.loc['名'].str.match(i[1]).sum()\n",
    "        l2 = sorted(l1.items(),key = lambda item: item[1],reverse=True)\n",
    "        print(l2)\n",
    "        \n",
    "    def count_yao(self,yao):\n",
    "        q1 = self.sh1.loc['方']\n",
    "        q2 = q1[q1.apply(lambda x:yao in x)].count()\n",
    "        print(q2)\n",
    "        \n",
    "    def count_yao_all(self):\n",
    "        q1 = self.sh1.loc['方']\n",
    "        l1 = {}\n",
    "        for i ,j in self.sh1.loc['方'].iteritems():\n",
    "            for g in j:\n",
    "                l1[g]= q1[q1.apply(lambda x:g in x)].count()\n",
    "        l2 = sorted(l1.items(),key = lambda item: item[1],reverse=True)\n",
    "                \n",
    "        print(l2)\n",
    "        \n",
    "    def draw_dir_all(self):#画每一个方剂的方向图\n",
    "        plt.rcParams['figure.figsize'] = [18,13]\n",
    "        plt.style.use('fivethirtyeight')\n",
    "        fang = self.sh1.loc['方']\n",
    "        sx = [self.wx.get(y,\"暂不明\") for f in fang for y in f]\n",
    "        sx_len = len(sx)\n",
    "        qq = {y: cnt / sx_len for y, cnt in collections.Counter(sx).items()}\n",
    "        qq1 = sorted(qq.items(),key = lambda item: item[1], reverse=True)\n",
    "        ss = {}\n",
    "        for i in qq1:\n",
    "            #print(i)\n",
    "            ss[i[0]]=i[1]\n",
    "        \n",
    "        #----------------下面是画饼图-----------------------------------\n",
    "        \n",
    "        labels = list(ss.keys())\n",
    "        X = list(ss.values())\n",
    "        fig, ax = plt.subplots(figsize=(11,11))\n",
    "        \n",
    "        colors = cm.rainbow(np.arange(len(X))/len(X))\n",
    "        #print(X)\n",
    "        patches, texts, autotexts = ax.pie(X, labels=labels, autopct='%1.2f%%',\n",
    "        shadow=False, startangle=170, colors=colors)\n",
    "        \n",
    "        proptease = fm.FontProperties()\n",
    "        proptease.set_size('x-large')\n",
    "        \n",
    "        plt.setp(autotexts, fontproperties=proptease)\n",
    "        plt.setp(texts, fontproperties=proptease)\n",
    "\n",
    "        plt.title(\"伤寒全部方剂五行方向图\", pad = 30)\n",
    "        plt.axis('equal')\n",
    "        plt.show()  \n",
    "        \n",
    "    def count_yao_all_draw(self):\n",
    "        plt.style.use('fivethirtyeight')#这个图的设定字体很清晰\n",
    "        plt.rcParams['figure.figsize'] = [18,13]\n",
    "        #plt.xlabel('药物')\n",
    "        plt.title('伤寒论药物用量排名分析(前10名)', pad = 90)\n",
    "        plt.xticks(fontsize=25)#x轴的字体大小\n",
    "        plt.yticks(fontsize=30)\n",
    "        \n",
    "        \n",
    "        q1 = self.sh1.loc['方']\n",
    "        l1 = {}\n",
    "        t_list = []\n",
    "        n_list = []\n",
    "        for i ,j in self.sh1.loc['方'].iteritems():\n",
    "            for g in j:\n",
    "                l1[g]= q1[q1.apply(lambda x:g in x)].count()\n",
    "        l2 = sorted(l1.items(),key = lambda item: item[1],reverse=True)\n",
    "            \n",
    "        for i in l2[:10]:\n",
    "            t_list.append(i[0])\n",
    "            n_list.append(i[1])\n",
    "            #plt.text(i[1],)\n",
    "        \n",
    "        x = np.arange(10)\n",
    "        ys = [i+x+(i*x)**2 for i in range(10)]\n",
    "        colors = cm.rainbow(np.linspace(0, 1, len(ys)))\n",
    "            \n",
    "        plt.bar(t_list,n_list,color=colors)\n",
    "        plt.show()\n",
    "        \n",
    "        \n",
    "            \n",
    "        "
   ]
  },
  {
   "cell_type": "code",
   "execution_count": null,
   "metadata": {},
   "outputs": [],
   "source": []
  },
  {
   "cell_type": "code",
   "execution_count": 4,
   "metadata": {},
   "outputs": [],
   "source": [
    "wx1 = pd.read_json('data/WX_yao.json')\n",
    "wx = {y: sx for sx, yao in wx1.loc[\"药物\"].iteritems() for y in yao}"
   ]
  },
  {
   "cell_type": "code",
   "execution_count": 5,
   "metadata": {},
   "outputs": [],
   "source": [
    "fang = sh1.loc['方']\n",
    "sx = [wx.get(y,\"暂不明\") for f in fang for y in f]\n",
    "sx_len = len(sx)\n",
    "qq = {y: cnt / sx_len for y, cnt in collections.Counter(sx).items()}"
   ]
  },
  {
   "cell_type": "code",
   "execution_count": 6,
   "metadata": {},
   "outputs": [],
   "source": [
    "qq1 = sorted(qq.items(),key = lambda item: item[1], reverse=True)"
   ]
  },
  {
   "cell_type": "code",
   "execution_count": 7,
   "metadata": {},
   "outputs": [
    {
     "data": {
      "text/plain": [
       "[('向上(木)', 0.2898550724637681),\n",
       " ('中轴(土)', 0.2768115942028985),\n",
       " ('向下(金)', 0.13478260869565217),\n",
       " ('火', 0.11304347826086956),\n",
       " ('暂不明', 0.09420289855072464),\n",
       " ('收藏(水)', 0.09130434782608696)]"
      ]
     },
     "execution_count": 7,
     "metadata": {},
     "output_type": "execute_result"
    }
   ],
   "source": [
    "qq1"
   ]
  },
  {
   "cell_type": "code",
   "execution_count": 8,
   "metadata": {},
   "outputs": [
    {
     "name": "stdout",
     "output_type": "stream",
     "text": [
      "('向上(木)', 0.2898550724637681)\n",
      "('中轴(土)', 0.2768115942028985)\n",
      "('向下(金)', 0.13478260869565217)\n",
      "('火', 0.11304347826086956)\n",
      "('暂不明', 0.09420289855072464)\n",
      "('收藏(水)', 0.09130434782608696)\n"
     ]
    }
   ],
   "source": [
    "ss={}\n",
    "for i in qq1:\n",
    "    print(i)\n",
    "    ss[i[0]]=i[1]"
   ]
  },
  {
   "cell_type": "code",
   "execution_count": 9,
   "metadata": {},
   "outputs": [
    {
     "data": {
      "text/plain": [
       "{'向上(木)': 0.2898550724637681,\n",
       " '中轴(土)': 0.2768115942028985,\n",
       " '向下(金)': 0.13478260869565217,\n",
       " '火': 0.11304347826086956,\n",
       " '暂不明': 0.09420289855072464,\n",
       " '收藏(水)': 0.09130434782608696}"
      ]
     },
     "execution_count": 9,
     "metadata": {},
     "output_type": "execute_result"
    }
   ],
   "source": [
    "ss"
   ]
  },
  {
   "cell_type": "code",
   "execution_count": 10,
   "metadata": {},
   "outputs": [
    {
     "data": {
      "text/plain": [
       "dict_items([('向上(木)', 200), ('向下(金)', 93), ('中轴(土)', 191), ('收藏(水)', 63), ('火', 78), ('暂不明', 65)])"
      ]
     },
     "execution_count": 10,
     "metadata": {},
     "output_type": "execute_result"
    }
   ],
   "source": [
    "collections.Counter(sx).items()"
   ]
  },
  {
   "cell_type": "code",
   "execution_count": 11,
   "metadata": {},
   "outputs": [
    {
     "data": {
      "text/plain": [
       "690"
      ]
     },
     "execution_count": 11,
     "metadata": {},
     "output_type": "execute_result"
    }
   ],
   "source": [
    "sx_len"
   ]
  },
  {
   "cell_type": "code",
   "execution_count": 12,
   "metadata": {},
   "outputs": [
    {
     "data": {
      "text/plain": [
       "dict_items([('向上(木)', 200), ('向下(金)', 93), ('中轴(土)', 191), ('收藏(水)', 63), ('火', 78), ('暂不明', 65)])"
      ]
     },
     "execution_count": 12,
     "metadata": {},
     "output_type": "execute_result"
    }
   ],
   "source": [
    "collections.Counter(sx).items()"
   ]
  },
  {
   "cell_type": "code",
   "execution_count": 13,
   "metadata": {},
   "outputs": [
    {
     "name": "stdout",
     "output_type": "stream",
     "text": [
      "0.2898550724637681\n",
      "0.13478260869565217\n",
      "0.2768115942028985\n",
      "0.09130434782608696\n",
      "0.11304347826086956\n",
      "0.09420289855072464\n"
     ]
    }
   ],
   "source": [
    "for y, cnt in collections.Counter(sx).items():\n",
    "    print(cnt/sx_len)"
   ]
  },
  {
   "cell_type": "code",
   "execution_count": 14,
   "metadata": {},
   "outputs": [],
   "source": [
    "q1 = sh1.loc['方']\n",
    "l1 = {}\n",
    "for i ,j in sh1.loc['方'].iteritems():\n",
    "    for g in j:\n",
    "        l1[g]= q1[q1.apply(lambda x:g in x)].count()\n",
    "l2 = sorted(l1.items(),key = lambda item: item[1],reverse=True)"
   ]
  },
  {
   "cell_type": "code",
   "execution_count": null,
   "metadata": {},
   "outputs": [],
   "source": []
  },
  {
   "cell_type": "code",
   "execution_count": 16,
   "metadata": {},
   "outputs": [
    {
     "data": {
      "text/plain": [
       "Index(['1号', '2号', '3号', '4号', '5号', '6号', '7号', '8号', '9号', '10号',\n",
       "       ...\n",
       "       '141号', '142号', '143号', '144号', '145号', '146号', '147号', '148号', '149号',\n",
       "       '150号'],\n",
       "      dtype='object', length=150)"
      ]
     },
     "execution_count": 16,
     "metadata": {},
     "output_type": "execute_result"
    }
   ],
   "source": [
    "sh1.loc['名'].index"
   ]
  },
  {
   "cell_type": "code",
   "execution_count": 17,
   "metadata": {},
   "outputs": [
    {
     "data": {
      "text/plain": [
       "'桂枝加葛根汤'"
      ]
     },
     "execution_count": 17,
     "metadata": {},
     "output_type": "execute_result"
    }
   ],
   "source": [
    "sh1.T.loc['2号']['名']"
   ]
  },
  {
   "cell_type": "code",
   "execution_count": 18,
   "metadata": {},
   "outputs": [],
   "source": [
    "a = sh1.loc['证'].apply(lambda x: set(x['体证']))"
   ]
  },
  {
   "cell_type": "code",
   "execution_count": 19,
   "metadata": {},
   "outputs": [],
   "source": [
    "b = sh1.loc['名'].apply(lambda x: x)"
   ]
  },
  {
   "cell_type": "code",
   "execution_count": 20,
   "metadata": {},
   "outputs": [],
   "source": [
    "c = b[b.apply(lambda x: '四逆汤' == x)].index[0]"
   ]
  },
  {
   "cell_type": "code",
   "execution_count": 29,
   "metadata": {},
   "outputs": [],
   "source": [
    "d1 = sh1[c]"
   ]
  },
  {
   "cell_type": "code",
   "execution_count": 30,
   "metadata": {},
   "outputs": [
    {
     "data": {
      "text/plain": [
       "原文    {'对应证原文': ['若重发汗。复加烧针者。四逆汤主之。'], '方剂原文': '甘草二两...\n",
       "名                                                   四逆汤\n",
       "方                 {'附子': '1枚', '炙甘草': '2两', '干姜': '1两'}\n",
       "经                               {'阴阳': '阳', '三经': '太阳'}\n",
       "证     {'体证': ['四肢冷', '长期焦虑', '自感体虚', '长期抑郁', '没有精神',...\n",
       "Name: 14号, dtype: object"
      ]
     },
     "execution_count": 30,
     "metadata": {},
     "output_type": "execute_result"
    }
   ],
   "source": [
    "d1"
   ]
  },
  {
   "cell_type": "code",
   "execution_count": 32,
   "metadata": {},
   "outputs": [
    {
     "data": {
      "text/plain": [
       "附子     1枚\n",
       "炙甘草    2两\n",
       "干姜     1两\n",
       "dtype: object"
      ]
     },
     "execution_count": 32,
     "metadata": {},
     "output_type": "execute_result"
    }
   ],
   "source": [
    "pd.Series(d1['方'])"
   ]
  },
  {
   "cell_type": "code",
   "execution_count": 33,
   "metadata": {},
   "outputs": [
    {
     "data": {
      "text/plain": [
       "对应证原文                          [若重发汗。复加烧针者。四逆汤主之。]\n",
       "方剂原文                 甘草二两[炙] 干姜一两半 附子一枚[生用 去皮 破八片]\n",
       "服药原文     右三味。以水三升。煮取一升二合。去滓。分温再服。 【强人可大附子一枚。干姜三两。】\n",
       "dtype: object"
      ]
     },
     "execution_count": 33,
     "metadata": {},
     "output_type": "execute_result"
    }
   ],
   "source": [
    "pd.Series(d1['原文'])"
   ]
  },
  {
   "cell_type": "code",
   "execution_count": 53,
   "metadata": {},
   "outputs": [],
   "source": [
    "bz = {\"四肢冷\"}"
   ]
  },
  {
   "cell_type": "code",
   "execution_count": 54,
   "metadata": {},
   "outputs": [],
   "source": [
    "a = sh1.loc['证'].apply(lambda x: set(x['体证']))"
   ]
  },
  {
   "cell_type": "code",
   "execution_count": 55,
   "metadata": {},
   "outputs": [
    {
     "data": {
      "text/plain": [
       "['14号',\n",
       " '41号',\n",
       " '88号',\n",
       " '118号',\n",
       " '119号',\n",
       " '122号',\n",
       " '123号',\n",
       " '125号',\n",
       " '126号',\n",
       " '127号',\n",
       " '132号',\n",
       " '133号',\n",
       " '143号',\n",
       " '144号',\n",
       " '145号',\n",
       " '146号']"
      ]
     },
     "execution_count": 55,
     "metadata": {},
     "output_type": "execute_result"
    }
   ],
   "source": [
    "list(a[a.apply(lambda x: bz <= x)].index)"
   ]
  },
  {
   "cell_type": "code",
   "execution_count": 60,
   "metadata": {},
   "outputs": [],
   "source": [
    "b = a[a.apply(lambda x: bz <= x)].index"
   ]
  },
  {
   "cell_type": "code",
   "execution_count": 64,
   "metadata": {},
   "outputs": [
    {
     "data": {
      "text/plain": [
       "14号             四逆汤\n",
       "41号             四逆汤\n",
       "88号             四逆汤\n",
       "118号          通脉四逆汤\n",
       "119号            四逆散\n",
       "122号            四逆汤\n",
       "123号            乌梅丸\n",
       "125号          当归四逆汤\n",
       "126号    当归四逆加吴茱萸生姜汤\n",
       "127号            四逆汤\n",
       "132号          通脉四逆汤\n",
       "133号           白头翁汤\n",
       "143号            四逆汤\n",
       "144号       通脉四逆加猪胆汤\n",
       "145号            烧裈散\n",
       "146号          枳实栀子汤\n",
       "Name: 名, dtype: object"
      ]
     },
     "execution_count": 64,
     "metadata": {},
     "output_type": "execute_result"
    }
   ],
   "source": [
    "sh1[b].loc['名']"
   ]
  },
  {
   "cell_type": "code",
   "execution_count": null,
   "metadata": {},
   "outputs": [],
   "source": []
  },
  {
   "cell_type": "code",
   "execution_count": 75,
   "metadata": {},
   "outputs": [],
   "source": [
    "b = sh1.loc['名'].apply(lambda x: x)\n",
    "c = b[b.apply(lambda x: '桂枝汤' == x)].index[0]\n",
    "d = sh1[c]"
   ]
  },
  {
   "cell_type": "code",
   "execution_count": 76,
   "metadata": {},
   "outputs": [
    {
     "data": {
      "text/plain": [
       "{'桂枝': '3两', '芍药': '3两', '炙甘草': '2两', '生姜': '3两', '大枣': '12枚'}"
      ]
     },
     "execution_count": 76,
     "metadata": {},
     "output_type": "execute_result"
    }
   ],
   "source": [
    "d.loc['方']"
   ]
  },
  {
   "cell_type": "code",
   "execution_count": 79,
   "metadata": {},
   "outputs": [
    {
     "data": {
      "image/png": "[encoded data removed]",
      "text/plain": [
       "<Figure size 432x288 with 1 Axes>"
      ]
     },
     "metadata": {
      "needs_background": "light"
     },
     "output_type": "display_data"
    }
   ],
   "source": [
    "# Fixing random state for reproducibility\n",
    "np.random.seed(19680801)\n",
    "\n",
    "# Compute areas and colors\n",
    "N = 150\n",
    "r = 2 * np.random.rand(N)\n",
    "theta = 2 * np.pi * np.random.rand(N)\n",
    "area = 200 * r**2\n",
    "colors = theta\n",
    "\n",
    "fig = plt.figure()\n",
    "ax = fig.add_subplot(111, projection='polar')\n",
    "c = ax.scatter(theta, r, c=colors, s=area, cmap='hsv', alpha=0.75)"
   ]
  },
  {
   "cell_type": "markdown",
   "metadata": {},
   "source": [
    "X = 150 这个区间,从第一个药开始\n",
    "Y = 五行 水在最下,火在最上\n",
    "那可以这样设定\n",
    "水 30, 金 60 土 90 木 120 火 150\n",
    "那么Y也是150"
   ]
  },
  {
   "cell_type": "code",
   "execution_count": 81,
   "metadata": {},
   "outputs": [],
   "source": [
    "wx_a = {'水':30,\n",
    "        '金':60,\n",
    "        '土':90,\n",
    "        '木':120,\n",
    "        '火':150  \n",
    "       }"
   ]
  },
  {
   "cell_type": "code",
   "execution_count": 80,
   "metadata": {},
   "outputs": [
    {
     "data": {
      "text/plain": [
       "(5, 150)"
      ]
     },
     "execution_count": 80,
     "metadata": {},
     "output_type": "execute_result"
    }
   ],
   "source": [
    "sh1.shape"
   ]
  },
  {
   "cell_type": "code",
   "execution_count": 82,
   "metadata": {},
   "outputs": [
    {
     "data": {
      "text/plain": [
       "{'水': 30, '金': 60, '土': 90, '木': 120, '火': 150}"
      ]
     },
     "execution_count": 82,
     "metadata": {},
     "output_type": "execute_result"
    }
   ],
   "source": [
    "wx_a"
   ]
  },
  {
   "cell_type": "code",
   "execution_count": 88,
   "metadata": {},
   "outputs": [],
   "source": [
    "fang = sh1.loc['方']"
   ]
  },
  {
   "cell_type": "code",
   "execution_count": 89,
   "metadata": {},
   "outputs": [],
   "source": [
    "sx = [wx.get(y,\"暂不明\") for f in fang for y in f]"
   ]
  },
  {
   "cell_type": "code",
   "execution_count": 126,
   "metadata": {},
   "outputs": [
    {
     "data": {
      "text/plain": [
       "{'炙甘草': '中轴(土)',\n",
       " '人参': '中轴(土)',\n",
       " '大枣': '中轴(土)',\n",
       " '茯苓': '中轴(土)',\n",
       " '胶饴': '中轴(土)',\n",
       " '麦门冬': '中轴(土)',\n",
       " '升麻': '中轴(土)',\n",
       " '瓜蒂': '中轴(土)',\n",
       " '鸡子黄': '中轴(土)',\n",
       " '芍药': '向下(金)',\n",
       " '柴胡': '向下(金)',\n",
       " '杏仁': '向下(金)',\n",
       " '石膏': '向下(金)',\n",
       " '五味子': '向下(金)',\n",
       " '枳实': '向下(金)',\n",
       " '铅丹': '向下(金)',\n",
       " '龙骨': '向下(金)',\n",
       " '牡蛎': '向下(金)',\n",
       " '豉': '向下(金)',\n",
       " '香豉': '收藏(水)',\n",
       " '大黄': '火',\n",
       " '芒硝': '火',\n",
       " '黄连': '火',\n",
       " '黄芩': '火',\n",
       " '泽泻': '火',\n",
       " '厚朴': '火',\n",
       " '通草': '火',\n",
       " '葱白': '火',\n",
       " '地黄': '收藏(水)',\n",
       " '麻黄': '收藏(水)',\n",
       " '葛根': '收藏(水)',\n",
       " '白术': '收藏(水)',\n",
       " '知母': '收藏(水)',\n",
       " '猪苓': '收藏(水)',\n",
       " '栀子': '收藏(水)',\n",
       " '竹叶': '收藏(水)',\n",
       " '生姜': '向上(木)',\n",
       " '附子': '向上(木)',\n",
       " '桂枝': '向上(木)',\n",
       " '半夏': '向上(木)',\n",
       " '干姜': '向上(木)',\n",
       " '粳米': '向上(木)',\n",
       " '细辛': '向上(木)',\n",
       " '阿胶': '向上(木)',\n",
       " '赤小豆': '向上(木)',\n",
       " '蜀椒': '向上(木)'}"
      ]
     },
     "execution_count": 126,
     "metadata": {},
     "output_type": "execute_result"
    }
   ],
   "source": [
    "wx"
   ]
  },
  {
   "cell_type": "code",
   "execution_count": null,
   "metadata": {},
   "outputs": [],
   "source": []
  },
  {
   "cell_type": "code",
   "execution_count": null,
   "metadata": {},
   "outputs": [],
   "source": []
  },
  {
   "cell_type": "code",
   "execution_count": 97,
   "metadata": {},
   "outputs": [
    {
     "data": {
      "text/plain": [
       "{'炙甘草': '中轴(土)',\n",
       " '人参': '中轴(土)',\n",
       " '大枣': '中轴(土)',\n",
       " '茯苓': '中轴(土)',\n",
       " '胶饴': '中轴(土)',\n",
       " '麦门冬': '中轴(土)',\n",
       " '升麻': '中轴(土)',\n",
       " '瓜蒂': '中轴(土)',\n",
       " '鸡子黄': '中轴(土)',\n",
       " '芍药': '向下(金)',\n",
       " '柴胡': '向下(金)',\n",
       " '杏仁': '向下(金)',\n",
       " '石膏': '向下(金)',\n",
       " '五味子': '向下(金)',\n",
       " '枳实': '向下(金)',\n",
       " '铅丹': '向下(金)',\n",
       " '龙骨': '向下(金)',\n",
       " '牡蛎': '向下(金)',\n",
       " '豉': '向下(金)',\n",
       " '香豉': '收藏(水)',\n",
       " '大黄': '火',\n",
       " '芒硝': '火',\n",
       " '黄连': '火',\n",
       " '黄芩': '火',\n",
       " '泽泻': '火',\n",
       " '厚朴': '火',\n",
       " '通草': '火',\n",
       " '葱白': '火',\n",
       " '地黄': '收藏(水)',\n",
       " '麻黄': '收藏(水)',\n",
       " '葛根': '收藏(水)',\n",
       " '白术': '收藏(水)',\n",
       " '知母': '收藏(水)',\n",
       " '猪苓': '收藏(水)',\n",
       " '栀子': '收藏(水)',\n",
       " '竹叶': '收藏(水)',\n",
       " '生姜': '向上(木)',\n",
       " '附子': '向上(木)',\n",
       " '桂枝': '向上(木)',\n",
       " '半夏': '向上(木)',\n",
       " '干姜': '向上(木)',\n",
       " '粳米': '向上(木)',\n",
       " '细辛': '向上(木)',\n",
       " '阿胶': '向上(木)',\n",
       " '赤小豆': '向上(木)',\n",
       " '蜀椒': '向上(木)'}"
      ]
     },
     "execution_count": 97,
     "metadata": {},
     "output_type": "execute_result"
    }
   ],
   "source": [
    "wx"
   ]
  },
  {
   "cell_type": "code",
   "execution_count": null,
   "metadata": {},
   "outputs": [],
   "source": []
  },
  {
   "cell_type": "code",
   "execution_count": null,
   "metadata": {},
   "outputs": [],
   "source": []
  },
  {
   "cell_type": "code",
   "execution_count": null,
   "metadata": {},
   "outputs": [],
   "source": []
  },
  {
   "cell_type": "code",
   "execution_count": null,
   "metadata": {},
   "outputs": [],
   "source": []
  },
  {
   "cell_type": "code",
   "execution_count": null,
   "metadata": {},
   "outputs": [],
   "source": []
  },
  {
   "cell_type": "code",
   "execution_count": 138,
   "metadata": {},
   "outputs": [],
   "source": [
    "yy = {}\n",
    "for i in wx1.loc[\"值\"]:\n",
    "    for j in wx1.loc[\"药物\"]:\n",
    "        for g in j:\n",
    "            yy[g] = i"
   ]
  },
  {
   "cell_type": "code",
   "execution_count": 139,
   "metadata": {},
   "outputs": [
    {
     "data": {
      "text/plain": [
       "{'炙甘草': 120,\n",
       " '人参': 120,\n",
       " '大枣': 120,\n",
       " '茯苓': 120,\n",
       " '胶饴': 120,\n",
       " '麦门冬': 120,\n",
       " '升麻': 120,\n",
       " '瓜蒂': 120,\n",
       " '鸡子黄': 120,\n",
       " '芍药': 120,\n",
       " '柴胡': 120,\n",
       " '杏仁': 120,\n",
       " '石膏': 120,\n",
       " '五味子': 120,\n",
       " '枳实': 120,\n",
       " '铅丹': 120,\n",
       " '龙骨': 120,\n",
       " '牡蛎': 120,\n",
       " '豉': 120,\n",
       " '香豉': 120,\n",
       " '大黄': 120,\n",
       " '芒硝': 120,\n",
       " '黄连': 120,\n",
       " '黄芩': 120,\n",
       " '泽泻': 120,\n",
       " '厚朴': 120,\n",
       " '通草': 120,\n",
       " '葱白': 120,\n",
       " '地黄': 120,\n",
       " '麻黄': 120,\n",
       " '葛根': 120,\n",
       " '白术': 120,\n",
       " '知母': 120,\n",
       " '猪苓': 120,\n",
       " '栀子': 120,\n",
       " '竹叶': 120,\n",
       " '生姜': 120,\n",
       " '附子': 120,\n",
       " '桂枝': 120,\n",
       " '半夏': 120,\n",
       " '干姜': 120,\n",
       " '粳米': 120,\n",
       " '细辛': 120,\n",
       " '阿胶': 120,\n",
       " '赤小豆': 120,\n",
       " '蜀椒': 120}"
      ]
     },
     "execution_count": 139,
     "metadata": {},
     "output_type": "execute_result"
    }
   ],
   "source": [
    "yy"
   ]
  },
  {
   "cell_type": "code",
   "execution_count": null,
   "metadata": {},
   "outputs": [],
   "source": []
  },
  {
   "cell_type": "code",
   "execution_count": null,
   "metadata": {},
   "outputs": [],
   "source": []
  },
  {
   "cell_type": "code",
   "execution_count": null,
   "metadata": {},
   "outputs": [],
   "source": []
  }
 ],
 "metadata": {
  "kernelspec": {
   "display_name": "Python 3",
   "language": "python",
   "name": "python3"
  },
  "language_info": {
   "codemirror_mode": {
    "name": "ipython",
    "version": 3
   },
   "file_extension": ".py",
   "mimetype": "text/x-python",
   "name": "python",
   "nbconvert_exporter": "python",
   "pygments_lexer": "ipython3",
   "version": "3.7.0"
  }
 },
 "nbformat": 4,
 "nbformat_minor": 2
}
